{
 "cells": [
  {
   "cell_type": "markdown",
   "metadata": {},
   "source": [
    "# Data cleaning for movies dataset\n",
    "**Dataset found from https://www.kaggle.com/rounakbanik/the-movies-dataset/data **"
   ]
  },
  {
   "cell_type": "markdown",
   "metadata": {},
   "source": [
    "We remove columns that are not needed and encoded categorical variables like genres, region of countries and the season of the release date of the movies.\n",
    "We only would select and analyse movies released from 2008 onwards."
   ]
  },
  {
   "cell_type": "code",
   "execution_count": 19,
   "metadata": {},
   "outputs": [
    {
     "name": "stderr",
     "output_type": "stream",
     "text": [
      "/home/angps/anaconda3/envs/angps/lib/python3.6/site-packages/IPython/core/interactiveshell.py:2698: DtypeWarning: Columns (10) have mixed types. Specify dtype option on import or set low_memory=False.\n",
      "  interactivity=interactivity, compiler=compiler, result=result)\n",
      "/home/angps/anaconda3/envs/angps/lib/python3.6/site-packages/ipykernel_launcher.py:65: SettingWithCopyWarning: \n",
      "A value is trying to be set on a copy of a slice from a DataFrame.\n",
      "Try using .loc[row_indexer,col_indexer] = value instead\n",
      "\n",
      "See the caveats in the documentation: http://pandas.pydata.org/pandas-docs/stable/indexing.html#indexing-view-versus-copy\n",
      "/home/angps/anaconda3/envs/angps/lib/python3.6/site-packages/ipykernel_launcher.py:67: SettingWithCopyWarning: \n",
      "A value is trying to be set on a copy of a slice from a DataFrame.\n",
      "Try using .loc[row_indexer,col_indexer] = value instead\n",
      "\n",
      "See the caveats in the documentation: http://pandas.pydata.org/pandas-docs/stable/indexing.html#indexing-view-versus-copy\n",
      "/home/angps/anaconda3/envs/angps/lib/python3.6/site-packages/ipykernel_launcher.py:68: SettingWithCopyWarning: \n",
      "A value is trying to be set on a copy of a slice from a DataFrame.\n",
      "Try using .loc[row_indexer,col_indexer] = value instead\n",
      "\n",
      "See the caveats in the documentation: http://pandas.pydata.org/pandas-docs/stable/indexing.html#indexing-view-versus-copy\n",
      "/home/angps/anaconda3/envs/angps/lib/python3.6/site-packages/ipykernel_launcher.py:69: SettingWithCopyWarning: \n",
      "A value is trying to be set on a copy of a slice from a DataFrame.\n",
      "Try using .loc[row_indexer,col_indexer] = value instead\n",
      "\n",
      "See the caveats in the documentation: http://pandas.pydata.org/pandas-docs/stable/indexing.html#indexing-view-versus-copy\n",
      "/home/angps/anaconda3/envs/angps/lib/python3.6/site-packages/ipykernel_launcher.py:71: SettingWithCopyWarning: \n",
      "A value is trying to be set on a copy of a slice from a DataFrame\n",
      "\n",
      "See the caveats in the documentation: http://pandas.pydata.org/pandas-docs/stable/indexing.html#indexing-view-versus-copy\n",
      "/home/angps/anaconda3/envs/angps/lib/python3.6/site-packages/ipykernel_launcher.py:72: SettingWithCopyWarning: \n",
      "A value is trying to be set on a copy of a slice from a DataFrame\n",
      "\n",
      "See the caveats in the documentation: http://pandas.pydata.org/pandas-docs/stable/indexing.html#indexing-view-versus-copy\n"
     ]
    }
   ],
   "source": [
    "from pandas import *\n",
    "import re\n",
    "import numpy as np \n",
    "import scipy as sp \n",
    "\n",
    "def extract(x):\n",
    "    return re.findall(r'name\\': \\'(\\w+)\\'',x)\n",
    "\n",
    "meta=read_csv('/home/angps/Documents/DSC3216 (1)/project/the-movies-dataset/movies_metadata.csv')\n",
    "meta.drop(['status','belongs_to_collection','homepage','imdb_id','poster_path','spoken_languages','original_title','video'],axis=1,inplace=True)\n",
    "\n",
    "meta['genres']=meta['genres'].apply(lambda x:extract(x))\n",
    "genres = set()\n",
    "for x in meta.genres.values:\n",
    "    for i in x:\n",
    "        genres.add(i)\n",
    "\n",
    "for genre in genres:\n",
    "    meta[genre] = meta['genres'].apply(lambda list:1 if genre in list else 0)\n",
    "    \n",
    "meta['production_companies']=meta['production_companies'].astype(str)\n",
    "meta['production_companies']=meta['production_companies'].apply(lambda x:extract(x))\n",
    "\n",
    "meta['production_countries']=meta['production_countries'].astype(str)\n",
    "meta['production_countries']=meta['production_countries'].apply(lambda x:extract(x))\n",
    "\n",
    "country=read_excel(\"/home/angps/Documents/DSC3216 (1)/project/Copy of List of countries - Table 9.xlsm\")\n",
    "country.set_index(\"Area\",inplace=True)\n",
    "\n",
    "areas = set()\n",
    "for x in country.index.values:\n",
    "    areas.add(x)\n",
    "    \n",
    "def in_area(country,area):\n",
    "    for i in country:\n",
    "        if i in area:\n",
    "            return True\n",
    "    return False\n",
    "\n",
    "for area in areas:\n",
    "    meta[area] = meta['production_countries'].apply(lambda list:1 if in_area(list, country.loc[area,\"Countries\"]) else 0)\n",
    "\n",
    "\n",
    "meta.drop([19730,29503,35587],inplace=True)\n",
    "meta['id']=meta.id.astype(int,errors='ignore')\n",
    "\n",
    "\n",
    "def extract2(x,n):\n",
    "    return re.findall(r'name\\': \\'(\\w+ \\w*)\\'',x)[:n]\n",
    "\n",
    "credit = read_csv('/home/angps/Documents/DSC3216 (1)/project/the-movies-dataset/credits.csv')\n",
    "credit['top_cast'] = credit['cast'].apply(lambda x: extract2(x,2))\n",
    "credit['top_crew'] = credit['crew'].apply(lambda x: extract2(x,2))\n",
    "credit.drop(['cast','crew'],axis=1,inplace=True)\n",
    "\n",
    "\n",
    "meta[\"is_adult_rated\"]=np.where(meta[\"adult\"]==\"True\",1,0)\n",
    "meta.drop([\"Aniplex\",\"GoHands\"],inplace=True,axis=1)\n",
    "\n",
    "full_data = meta.merge(credit,how='inner',on='id')\n",
    "data=full_data[full_data[\"release_date\"]>=\"2008-01-01\"]\n",
    "data.reset_index(inplace=True)\n",
    "\n",
    "\n",
    "data[\"month\"]=data[\"release_date\"].apply(lambda x: int(x[5:7]))\n",
    "def season(data): #if spring,summer,autumn is 0, then winter is 1\n",
    "    data[\"Spring\"]=np.where(((data[\"month\"]>=3) & (data[\"month\"]<=5)),1,0)\n",
    "    data[\"Summer\"]=np.where(((data[\"month\"]>=6) & (data[\"month\"]<=8)),1,0)\n",
    "    data[\"Autumn\"]=np.where(((data[\"month\"]>=9) & (data[\"month\"]<=11)),1,0)\n",
    "season(data)\n",
    "data.drop([\"month\",\"index\"],inplace=True,axis=1)\n",
    "data.drop_duplicates(subset=\"id\",keep=\"first\",inplace=True)\n",
    "data.reset_index(inplace=True)\n",
    "#combined.set_index('title',inplace=True)\n",
    "\n",
    "\n"
   ]
  },
  {
   "cell_type": "code",
   "execution_count": 20,
   "metadata": {},
   "outputs": [],
   "source": [
    "full_data.to_csv(\"full_data.csv\",index=False)\n",
    "data.to_csv(\"data.csv\",index=False)"
   ]
  },
  {
   "cell_type": "markdown",
   "metadata": {},
   "source": [
    "**We would then select only rows where there are recorded (non-zero) values in budget and revenue to make our data more consistent.**"
   ]
  },
  {
   "cell_type": "code",
   "execution_count": 21,
   "metadata": {},
   "outputs": [],
   "source": [
    "data=read_csv(\"/home/angps/Documents/DSC3216 (1)/project/data.csv\")\n",
    "valid=data[data[\"budget\"]>0]\n",
    "valid_data=valid[valid[\"revenue\"]>0]\n",
    "valid_data.reset_index(inplace=True,drop=True)\n",
    "valid_data.to_csv(\"valid_data.csv\",index=False)"
   ]
  },
  {
   "cell_type": "code",
   "execution_count": null,
   "metadata": {},
   "outputs": [],
   "source": []
  }
 ],
 "metadata": {
  "kernelspec": {
   "display_name": "Python 3",
   "language": "python",
   "name": "python3"
  },
  "language_info": {
   "codemirror_mode": {
    "name": "ipython",
    "version": 3
   },
   "file_extension": ".py",
   "mimetype": "text/x-python",
   "name": "python",
   "nbconvert_exporter": "python",
   "pygments_lexer": "ipython3",
   "version": "3.6.3"
  }
 },
 "nbformat": 4,
 "nbformat_minor": 2
}
