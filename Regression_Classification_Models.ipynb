{
 "cells": [
  {
   "cell_type": "markdown",
   "metadata": {},
   "source": [
    "# Predicting Profitability and Popularity of movies\n",
    "**In this notebook, we are going to build and test different models to:**\n",
    "\n",
    "**1) Predict which movies would be profitable**\n",
    "\n",
    "**2) Predict which movies would be popular**"
   ]
  },
  {
   "cell_type": "markdown",
   "metadata": {},
   "source": [
    " "
   ]
  },
  {
   "cell_type": "markdown",
   "metadata": {},
   "source": [
    "# 1. Importing the libraries and the data that was obtained from the previous notebook - Data-cleaning"
   ]
  },
  {
   "cell_type": "code",
   "execution_count": 1,
   "metadata": {},
   "outputs": [
    {
     "name": "stderr",
     "output_type": "stream",
     "text": [
      "/home/angps/anaconda3/envs/angps/lib/python3.6/site-packages/sklearn/cross_validation.py:41: DeprecationWarning: This module was deprecated in version 0.18 in favor of the model_selection module into which all the refactored classes and functions are moved. Also note that the interface of the new CV iterators are different from that of this module. This module will be removed in 0.20.\n",
      "  \"This module will be removed in 0.20.\", DeprecationWarning)\n",
      "/home/angps/anaconda3/envs/angps/lib/python3.6/site-packages/sklearn/grid_search.py:42: DeprecationWarning: This module was deprecated in version 0.18 in favor of the model_selection module into which all the refactored classes and functions are moved. This module will be removed in 0.20.\n",
      "  DeprecationWarning)\n"
     ]
    }
   ],
   "source": [
    "%matplotlib inline \n",
    "import numpy as np \n",
    "import scipy as sp \n",
    "import matplotlib as mpl\n",
    "import matplotlib.cm as cm \n",
    "import matplotlib.pyplot as plt\n",
    "import pandas as pd \n",
    "from pandas.tools.plotting import scatter_matrix\n",
    "pd.set_option('display.width', 500)\n",
    "pd.set_option('display.max_columns', 100)\n",
    "pd.set_option('display.notebook_repr_html', True)\n",
    "import seaborn as sns\n",
    "sns.set(style=\"whitegrid\")\n",
    "from sklearn.pipeline import make_pipeline\n",
    "from sklearn.ensemble import RandomForestClassifier\n",
    "from sklearn.feature_selection import SelectKBest\n",
    "from sklearn.cross_validation import StratifiedKFold\n",
    "from sklearn.grid_search import GridSearchCV\n",
    "from sklearn.ensemble.gradient_boosting import GradientBoostingClassifier\n",
    "#from sklearn.cross_validation import cross_val_score\n",
    "from sklearn.linear_model import LogisticRegression\n",
    "from sklearn.linear_model import LinearRegression\n",
    "import statsmodels.formula.api as sm\n",
    "from sklearn.cross_validation import train_test_split\n",
    "from sklearn.svm import SVC, LinearSVC\n",
    "from sklearn.neighbors import KNeighborsClassifier\n",
    "from sklearn.tree import DecisionTreeClassifier\n",
    "from sklearn.naive_bayes import GaussianNB\n",
    "from sklearn.linear_model import Perceptron\n",
    "from sklearn.linear_model import SGDClassifier\n",
    "from sklearn.feature_selection import SelectFromModel\n",
    "from sklearn.model_selection import KFold\n",
    "from sklearn.model_selection import cross_val_score\n",
    "from sklearn.metrics import confusion_matrix\n",
    "from sklearn.metrics import accuracy_score\n",
    "import xgboost as xgb\n",
    "from sklearn.metrics import roc_curve, auc\n",
    "import scikitplot as skplt\n",
    "import warnings\n",
    "warnings.filterwarnings('ignore')"
   ]
  },
  {
   "cell_type": "code",
   "execution_count": 2,
   "metadata": {},
   "outputs": [],
   "source": [
    "valid_data=pd.read_csv(\"/home/angps/Documents/DSC3216 (1)/project/valid_data.csv\")"
   ]
  },
  {
   "cell_type": "code",
   "execution_count": 3,
   "metadata": {},
   "outputs": [
    {
     "data": {
      "text/html": [
       "<div>\n",
       "<style>\n",
       "    .dataframe thead tr:only-child th {\n",
       "        text-align: right;\n",
       "    }\n",
       "\n",
       "    .dataframe thead th {\n",
       "        text-align: left;\n",
       "    }\n",
       "\n",
       "    .dataframe tbody tr th {\n",
       "        vertical-align: top;\n",
       "    }\n",
       "</style>\n",
       "<table border=\"1\" class=\"dataframe\">\n",
       "  <thead>\n",
       "    <tr style=\"text-align: right;\">\n",
       "      <th></th>\n",
       "      <th>index</th>\n",
       "      <th>adult</th>\n",
       "      <th>budget</th>\n",
       "      <th>genres</th>\n",
       "      <th>id</th>\n",
       "      <th>original_language</th>\n",
       "      <th>overview</th>\n",
       "      <th>popularity</th>\n",
       "      <th>production_companies</th>\n",
       "      <th>production_countries</th>\n",
       "      <th>release_date</th>\n",
       "      <th>revenue</th>\n",
       "      <th>runtime</th>\n",
       "      <th>tagline</th>\n",
       "      <th>title</th>\n",
       "      <th>vote_average</th>\n",
       "      <th>vote_count</th>\n",
       "      <th>Animation</th>\n",
       "      <th>Crime</th>\n",
       "      <th>History</th>\n",
       "      <th>Horror</th>\n",
       "      <th>Drama</th>\n",
       "      <th>Mystery</th>\n",
       "      <th>Documentary</th>\n",
       "      <th>Fantasy</th>\n",
       "      <th>Action</th>\n",
       "      <th>Thriller</th>\n",
       "      <th>Music</th>\n",
       "      <th>Comedy</th>\n",
       "      <th>Family</th>\n",
       "      <th>Romance</th>\n",
       "      <th>Western</th>\n",
       "      <th>War</th>\n",
       "      <th>Foreign</th>\n",
       "      <th>Adventure</th>\n",
       "      <th>Western Europe</th>\n",
       "      <th>Middle Africa</th>\n",
       "      <th>Northern Africa</th>\n",
       "      <th>Central America</th>\n",
       "      <th>North America</th>\n",
       "      <th>Eastern Asia</th>\n",
       "      <th>South-Eastern Asia</th>\n",
       "      <th>Central Asia</th>\n",
       "      <th>Western Asia</th>\n",
       "      <th>Eastern Europe</th>\n",
       "      <th>Oceania</th>\n",
       "      <th>Southern Africa</th>\n",
       "      <th>Southern Asia</th>\n",
       "      <th>Caribbean</th>\n",
       "      <th>Western Africa</th>\n",
       "      <th>South America</th>\n",
       "      <th>Eastern Africa</th>\n",
       "      <th>is_adult_rated</th>\n",
       "      <th>top_cast</th>\n",
       "      <th>top_crew</th>\n",
       "      <th>Spring</th>\n",
       "      <th>Summer</th>\n",
       "      <th>Autumn</th>\n",
       "    </tr>\n",
       "  </thead>\n",
       "  <tbody>\n",
       "    <tr>\n",
       "      <th>0</th>\n",
       "      <td>9</td>\n",
       "      <td>False</td>\n",
       "      <td>3512454</td>\n",
       "      <td>['Drama']</td>\n",
       "      <td>110428</td>\n",
       "      <td>fr</td>\n",
       "      <td>Winter, 1915. Confined by her family to an asy...</td>\n",
       "      <td>0.134014</td>\n",
       "      <td>[]</td>\n",
       "      <td>['France']</td>\n",
       "      <td>2013-03-13</td>\n",
       "      <td>115860.0</td>\n",
       "      <td>95.0</td>\n",
       "      <td>NaN</td>\n",
       "      <td>Camille Claudel 1915</td>\n",
       "      <td>7.0</td>\n",
       "      <td>20.0</td>\n",
       "      <td>0</td>\n",
       "      <td>0</td>\n",
       "      <td>0</td>\n",
       "      <td>0</td>\n",
       "      <td>1</td>\n",
       "      <td>0</td>\n",
       "      <td>0</td>\n",
       "      <td>0</td>\n",
       "      <td>0</td>\n",
       "      <td>0</td>\n",
       "      <td>0</td>\n",
       "      <td>0</td>\n",
       "      <td>0</td>\n",
       "      <td>0</td>\n",
       "      <td>0</td>\n",
       "      <td>0</td>\n",
       "      <td>0</td>\n",
       "      <td>0</td>\n",
       "      <td>1</td>\n",
       "      <td>0</td>\n",
       "      <td>0</td>\n",
       "      <td>0</td>\n",
       "      <td>0</td>\n",
       "      <td>0</td>\n",
       "      <td>0</td>\n",
       "      <td>0</td>\n",
       "      <td>0</td>\n",
       "      <td>0</td>\n",
       "      <td>0</td>\n",
       "      <td>0</td>\n",
       "      <td>0</td>\n",
       "      <td>0</td>\n",
       "      <td>0</td>\n",
       "      <td>0</td>\n",
       "      <td>0</td>\n",
       "      <td>0</td>\n",
       "      <td>['Juliette Binoche', 'Robert Leroy']</td>\n",
       "      <td>['Bruno Dumont', 'Bruno Dumont']</td>\n",
       "      <td>1</td>\n",
       "      <td>0</td>\n",
       "      <td>0</td>\n",
       "    </tr>\n",
       "    <tr>\n",
       "      <th>1</th>\n",
       "      <td>15</td>\n",
       "      <td>False</td>\n",
       "      <td>40000000</td>\n",
       "      <td>['Adventure', 'Drama']</td>\n",
       "      <td>77221</td>\n",
       "      <td>en</td>\n",
       "      <td>On the Arabian Peninsula in the 1930s, two war...</td>\n",
       "      <td>6.652197</td>\n",
       "      <td>[]</td>\n",
       "      <td>['France', 'Italy', 'Qatar', 'Tunisia']</td>\n",
       "      <td>2011-12-21</td>\n",
       "      <td>5446000.0</td>\n",
       "      <td>130.0</td>\n",
       "      <td>NaN</td>\n",
       "      <td>Black Gold</td>\n",
       "      <td>5.9</td>\n",
       "      <td>77.0</td>\n",
       "      <td>0</td>\n",
       "      <td>0</td>\n",
       "      <td>0</td>\n",
       "      <td>0</td>\n",
       "      <td>1</td>\n",
       "      <td>0</td>\n",
       "      <td>0</td>\n",
       "      <td>0</td>\n",
       "      <td>0</td>\n",
       "      <td>0</td>\n",
       "      <td>0</td>\n",
       "      <td>0</td>\n",
       "      <td>0</td>\n",
       "      <td>0</td>\n",
       "      <td>0</td>\n",
       "      <td>0</td>\n",
       "      <td>0</td>\n",
       "      <td>1</td>\n",
       "      <td>1</td>\n",
       "      <td>0</td>\n",
       "      <td>1</td>\n",
       "      <td>0</td>\n",
       "      <td>0</td>\n",
       "      <td>0</td>\n",
       "      <td>0</td>\n",
       "      <td>0</td>\n",
       "      <td>1</td>\n",
       "      <td>0</td>\n",
       "      <td>0</td>\n",
       "      <td>0</td>\n",
       "      <td>0</td>\n",
       "      <td>0</td>\n",
       "      <td>0</td>\n",
       "      <td>0</td>\n",
       "      <td>0</td>\n",
       "      <td>0</td>\n",
       "      <td>['Mark Strong', 'Antonio Banderas']</td>\n",
       "      <td>['Menno Meyjes', 'James Horner']</td>\n",
       "      <td>0</td>\n",
       "      <td>0</td>\n",
       "      <td>0</td>\n",
       "    </tr>\n",
       "  </tbody>\n",
       "</table>\n",
       "</div>"
      ],
      "text/plain": [
       "   index  adult    budget                  genres      id original_language                                           overview  popularity production_companies                     production_countries release_date    revenue  runtime tagline                 title  vote_average  vote_count  Animation  Crime  History  Horror  Drama  Mystery  Documentary  Fantasy  Action  Thriller  Music  Comedy  Family  Romance  Western  War  Foreign  Adventure  Western Europe  Middle Africa  Northern Africa  \\\n",
       "0      9  False   3512454               ['Drama']  110428                fr  Winter, 1915. Confined by her family to an asy...    0.134014                   []                               ['France']   2013-03-13   115860.0     95.0     NaN  Camille Claudel 1915           7.0        20.0          0      0        0       0      1        0            0        0       0         0      0       0       0        0        0    0        0          0               1              0                0   \n",
       "1     15  False  40000000  ['Adventure', 'Drama']   77221                en  On the Arabian Peninsula in the 1930s, two war...    6.652197                   []  ['France', 'Italy', 'Qatar', 'Tunisia']   2011-12-21  5446000.0    130.0     NaN            Black Gold           5.9        77.0          0      0        0       0      1        0            0        0       0         0      0       0       0        0        0    0        0          1               1              0                1   \n",
       "\n",
       "   Central America  North America  Eastern Asia  South-Eastern Asia  Central Asia   Western Asia  Eastern Europe  Oceania  Southern Africa  Southern Asia   Caribbean  Western Africa  South America  Eastern Africa  is_adult_rated                              top_cast                          top_crew  Spring  Summer  Autumn  \n",
       "0                0              0             0                   0              0             0               0        0                0               0          0               0              0               0               0  ['Juliette Binoche', 'Robert Leroy']  ['Bruno Dumont', 'Bruno Dumont']       1       0       0  \n",
       "1                0              0             0                   0              0             1               0        0                0               0          0               0              0               0               0   ['Mark Strong', 'Antonio Banderas']  ['Menno Meyjes', 'James Horner']       0       0       0  "
      ]
     },
     "execution_count": 3,
     "metadata": {},
     "output_type": "execute_result"
    }
   ],
   "source": [
    "valid_data.head(2)"
   ]
  },
  {
   "cell_type": "markdown",
   "metadata": {},
   "source": [
    "# 2) Getting the required variables for regression and classification\n",
    "**We would drop those non-numerical variables (e.g index,adult,id,overview etc) in order to perform regression and classification**"
   ]
  },
  {
   "cell_type": "code",
   "execution_count": 4,
   "metadata": {},
   "outputs": [],
   "source": [
    "valid_data_models=valid_data.copy()\n",
    "valid_data_models.drop([\"index\",\"adult\",\"genres\",\"id\",\"original_language\",\"overview\",\"production_companies\",\"production_countries\",\"release_date\",\"tagline\",\"title\",\"top_cast\",\"top_crew\"],inplace=True,axis=1)"
   ]
  },
  {
   "cell_type": "code",
   "execution_count": 5,
   "metadata": {},
   "outputs": [
    {
     "data": {
      "text/html": [
       "<div>\n",
       "<style>\n",
       "    .dataframe thead tr:only-child th {\n",
       "        text-align: right;\n",
       "    }\n",
       "\n",
       "    .dataframe thead th {\n",
       "        text-align: left;\n",
       "    }\n",
       "\n",
       "    .dataframe tbody tr th {\n",
       "        vertical-align: top;\n",
       "    }\n",
       "</style>\n",
       "<table border=\"1\" class=\"dataframe\">\n",
       "  <thead>\n",
       "    <tr style=\"text-align: right;\">\n",
       "      <th></th>\n",
       "      <th>budget</th>\n",
       "      <th>popularity</th>\n",
       "      <th>revenue</th>\n",
       "      <th>runtime</th>\n",
       "      <th>vote_average</th>\n",
       "      <th>vote_count</th>\n",
       "      <th>Animation</th>\n",
       "      <th>Crime</th>\n",
       "      <th>History</th>\n",
       "      <th>Horror</th>\n",
       "      <th>Drama</th>\n",
       "      <th>Mystery</th>\n",
       "      <th>Documentary</th>\n",
       "      <th>Fantasy</th>\n",
       "      <th>Action</th>\n",
       "      <th>Thriller</th>\n",
       "      <th>Music</th>\n",
       "      <th>Comedy</th>\n",
       "      <th>Family</th>\n",
       "      <th>Romance</th>\n",
       "      <th>Western</th>\n",
       "      <th>War</th>\n",
       "      <th>Foreign</th>\n",
       "      <th>Adventure</th>\n",
       "      <th>Western Europe</th>\n",
       "      <th>Middle Africa</th>\n",
       "      <th>Northern Africa</th>\n",
       "      <th>Central America</th>\n",
       "      <th>North America</th>\n",
       "      <th>Eastern Asia</th>\n",
       "      <th>South-Eastern Asia</th>\n",
       "      <th>Central Asia</th>\n",
       "      <th>Western Asia</th>\n",
       "      <th>Eastern Europe</th>\n",
       "      <th>Oceania</th>\n",
       "      <th>Southern Africa</th>\n",
       "      <th>Southern Asia</th>\n",
       "      <th>Caribbean</th>\n",
       "      <th>Western Africa</th>\n",
       "      <th>South America</th>\n",
       "      <th>Eastern Africa</th>\n",
       "      <th>is_adult_rated</th>\n",
       "      <th>Spring</th>\n",
       "      <th>Summer</th>\n",
       "      <th>Autumn</th>\n",
       "    </tr>\n",
       "  </thead>\n",
       "  <tbody>\n",
       "    <tr>\n",
       "      <th>0</th>\n",
       "      <td>3512454</td>\n",
       "      <td>0.134014</td>\n",
       "      <td>115860.0</td>\n",
       "      <td>95.0</td>\n",
       "      <td>7.0</td>\n",
       "      <td>20.0</td>\n",
       "      <td>0</td>\n",
       "      <td>0</td>\n",
       "      <td>0</td>\n",
       "      <td>0</td>\n",
       "      <td>1</td>\n",
       "      <td>0</td>\n",
       "      <td>0</td>\n",
       "      <td>0</td>\n",
       "      <td>0</td>\n",
       "      <td>0</td>\n",
       "      <td>0</td>\n",
       "      <td>0</td>\n",
       "      <td>0</td>\n",
       "      <td>0</td>\n",
       "      <td>0</td>\n",
       "      <td>0</td>\n",
       "      <td>0</td>\n",
       "      <td>0</td>\n",
       "      <td>1</td>\n",
       "      <td>0</td>\n",
       "      <td>0</td>\n",
       "      <td>0</td>\n",
       "      <td>0</td>\n",
       "      <td>0</td>\n",
       "      <td>0</td>\n",
       "      <td>0</td>\n",
       "      <td>0</td>\n",
       "      <td>0</td>\n",
       "      <td>0</td>\n",
       "      <td>0</td>\n",
       "      <td>0</td>\n",
       "      <td>0</td>\n",
       "      <td>0</td>\n",
       "      <td>0</td>\n",
       "      <td>0</td>\n",
       "      <td>0</td>\n",
       "      <td>1</td>\n",
       "      <td>0</td>\n",
       "      <td>0</td>\n",
       "    </tr>\n",
       "    <tr>\n",
       "      <th>1</th>\n",
       "      <td>40000000</td>\n",
       "      <td>6.652197</td>\n",
       "      <td>5446000.0</td>\n",
       "      <td>130.0</td>\n",
       "      <td>5.9</td>\n",
       "      <td>77.0</td>\n",
       "      <td>0</td>\n",
       "      <td>0</td>\n",
       "      <td>0</td>\n",
       "      <td>0</td>\n",
       "      <td>1</td>\n",
       "      <td>0</td>\n",
       "      <td>0</td>\n",
       "      <td>0</td>\n",
       "      <td>0</td>\n",
       "      <td>0</td>\n",
       "      <td>0</td>\n",
       "      <td>0</td>\n",
       "      <td>0</td>\n",
       "      <td>0</td>\n",
       "      <td>0</td>\n",
       "      <td>0</td>\n",
       "      <td>0</td>\n",
       "      <td>1</td>\n",
       "      <td>1</td>\n",
       "      <td>0</td>\n",
       "      <td>1</td>\n",
       "      <td>0</td>\n",
       "      <td>0</td>\n",
       "      <td>0</td>\n",
       "      <td>0</td>\n",
       "      <td>0</td>\n",
       "      <td>1</td>\n",
       "      <td>0</td>\n",
       "      <td>0</td>\n",
       "      <td>0</td>\n",
       "      <td>0</td>\n",
       "      <td>0</td>\n",
       "      <td>0</td>\n",
       "      <td>0</td>\n",
       "      <td>0</td>\n",
       "      <td>0</td>\n",
       "      <td>0</td>\n",
       "      <td>0</td>\n",
       "      <td>0</td>\n",
       "    </tr>\n",
       "    <tr>\n",
       "      <th>2</th>\n",
       "      <td>30000000</td>\n",
       "      <td>10.342202</td>\n",
       "      <td>160259319.0</td>\n",
       "      <td>111.0</td>\n",
       "      <td>6.1</td>\n",
       "      <td>1013.0</td>\n",
       "      <td>0</td>\n",
       "      <td>0</td>\n",
       "      <td>0</td>\n",
       "      <td>0</td>\n",
       "      <td>0</td>\n",
       "      <td>0</td>\n",
       "      <td>0</td>\n",
       "      <td>0</td>\n",
       "      <td>0</td>\n",
       "      <td>0</td>\n",
       "      <td>0</td>\n",
       "      <td>1</td>\n",
       "      <td>0</td>\n",
       "      <td>1</td>\n",
       "      <td>0</td>\n",
       "      <td>0</td>\n",
       "      <td>0</td>\n",
       "      <td>0</td>\n",
       "      <td>0</td>\n",
       "      <td>0</td>\n",
       "      <td>0</td>\n",
       "      <td>0</td>\n",
       "      <td>0</td>\n",
       "      <td>0</td>\n",
       "      <td>0</td>\n",
       "      <td>0</td>\n",
       "      <td>0</td>\n",
       "      <td>0</td>\n",
       "      <td>0</td>\n",
       "      <td>0</td>\n",
       "      <td>0</td>\n",
       "      <td>0</td>\n",
       "      <td>0</td>\n",
       "      <td>0</td>\n",
       "      <td>0</td>\n",
       "      <td>0</td>\n",
       "      <td>0</td>\n",
       "      <td>0</td>\n",
       "      <td>0</td>\n",
       "    </tr>\n",
       "    <tr>\n",
       "      <th>3</th>\n",
       "      <td>25000000</td>\n",
       "      <td>12.868098</td>\n",
       "      <td>170764026.0</td>\n",
       "      <td>85.0</td>\n",
       "      <td>6.4</td>\n",
       "      <td>2297.0</td>\n",
       "      <td>0</td>\n",
       "      <td>0</td>\n",
       "      <td>0</td>\n",
       "      <td>0</td>\n",
       "      <td>0</td>\n",
       "      <td>0</td>\n",
       "      <td>0</td>\n",
       "      <td>0</td>\n",
       "      <td>1</td>\n",
       "      <td>1</td>\n",
       "      <td>0</td>\n",
       "      <td>0</td>\n",
       "      <td>0</td>\n",
       "      <td>0</td>\n",
       "      <td>0</td>\n",
       "      <td>0</td>\n",
       "      <td>0</td>\n",
       "      <td>0</td>\n",
       "      <td>0</td>\n",
       "      <td>0</td>\n",
       "      <td>0</td>\n",
       "      <td>0</td>\n",
       "      <td>0</td>\n",
       "      <td>0</td>\n",
       "      <td>0</td>\n",
       "      <td>0</td>\n",
       "      <td>0</td>\n",
       "      <td>0</td>\n",
       "      <td>0</td>\n",
       "      <td>0</td>\n",
       "      <td>0</td>\n",
       "      <td>0</td>\n",
       "      <td>0</td>\n",
       "      <td>0</td>\n",
       "      <td>0</td>\n",
       "      <td>0</td>\n",
       "      <td>0</td>\n",
       "      <td>0</td>\n",
       "      <td>0</td>\n",
       "    </tr>\n",
       "    <tr>\n",
       "      <th>4</th>\n",
       "      <td>35000000</td>\n",
       "      <td>7.852170</td>\n",
       "      <td>32483410.0</td>\n",
       "      <td>101.0</td>\n",
       "      <td>5.9</td>\n",
       "      <td>241.0</td>\n",
       "      <td>0</td>\n",
       "      <td>0</td>\n",
       "      <td>0</td>\n",
       "      <td>0</td>\n",
       "      <td>1</td>\n",
       "      <td>0</td>\n",
       "      <td>0</td>\n",
       "      <td>0</td>\n",
       "      <td>0</td>\n",
       "      <td>0</td>\n",
       "      <td>0</td>\n",
       "      <td>0</td>\n",
       "      <td>0</td>\n",
       "      <td>0</td>\n",
       "      <td>0</td>\n",
       "      <td>0</td>\n",
       "      <td>0</td>\n",
       "      <td>0</td>\n",
       "      <td>0</td>\n",
       "      <td>0</td>\n",
       "      <td>0</td>\n",
       "      <td>0</td>\n",
       "      <td>0</td>\n",
       "      <td>0</td>\n",
       "      <td>0</td>\n",
       "      <td>0</td>\n",
       "      <td>0</td>\n",
       "      <td>0</td>\n",
       "      <td>0</td>\n",
       "      <td>0</td>\n",
       "      <td>0</td>\n",
       "      <td>0</td>\n",
       "      <td>0</td>\n",
       "      <td>0</td>\n",
       "      <td>0</td>\n",
       "      <td>0</td>\n",
       "      <td>0</td>\n",
       "      <td>0</td>\n",
       "      <td>0</td>\n",
       "    </tr>\n",
       "  </tbody>\n",
       "</table>\n",
       "</div>"
      ],
      "text/plain": [
       "     budget  popularity      revenue  runtime  vote_average  vote_count  Animation  Crime  History  Horror  Drama  Mystery  Documentary  Fantasy  Action  Thriller  Music  Comedy  Family  Romance  Western  War  Foreign  Adventure  Western Europe  Middle Africa  Northern Africa  Central America  North America  Eastern Asia  South-Eastern Asia  Central Asia   Western Asia  Eastern Europe  Oceania  Southern Africa  Southern Asia   Caribbean  Western Africa  South America  Eastern Africa  \\\n",
       "0   3512454    0.134014     115860.0     95.0           7.0        20.0          0      0        0       0      1        0            0        0       0         0      0       0       0        0        0    0        0          0               1              0                0                0              0             0                   0              0             0               0        0                0               0          0               0              0               0   \n",
       "1  40000000    6.652197    5446000.0    130.0           5.9        77.0          0      0        0       0      1        0            0        0       0         0      0       0       0        0        0    0        0          1               1              0                1                0              0             0                   0              0             1               0        0                0               0          0               0              0               0   \n",
       "2  30000000   10.342202  160259319.0    111.0           6.1      1013.0          0      0        0       0      0        0            0        0       0         0      0       1       0        1        0    0        0          0               0              0                0                0              0             0                   0              0             0               0        0                0               0          0               0              0               0   \n",
       "3  25000000   12.868098  170764026.0     85.0           6.4      2297.0          0      0        0       0      0        0            0        0       1         1      0       0       0        0        0    0        0          0               0              0                0                0              0             0                   0              0             0               0        0                0               0          0               0              0               0   \n",
       "4  35000000    7.852170   32483410.0    101.0           5.9       241.0          0      0        0       0      1        0            0        0       0         0      0       0       0        0        0    0        0          0               0              0                0                0              0             0                   0              0             0               0        0                0               0          0               0              0               0   \n",
       "\n",
       "   is_adult_rated  Spring  Summer  Autumn  \n",
       "0               0       1       0       0  \n",
       "1               0       0       0       0  \n",
       "2               0       0       0       0  \n",
       "3               0       0       0       0  \n",
       "4               0       0       0       0  "
      ]
     },
     "execution_count": 5,
     "metadata": {},
     "output_type": "execute_result"
    }
   ],
   "source": [
    "valid_data_models.head()"
   ]
  },
  {
   "cell_type": "markdown",
   "metadata": {},
   "source": [
    "# 3) Inserting profitability and popularity measures\n",
    "**We use the simple Return-On-Investment (ROI) formula to determine if a movie is profitable. We would require an ROI of at least 2x to be deemed worthy to invest in.**\n",
    "\n",
    "**We use the weighted ratings formula used by Imdb and will only classify the top 25% of the weighted ratings as movies that are popular.**"
   ]
  },
  {
   "cell_type": "code",
   "execution_count": 6,
   "metadata": {},
   "outputs": [],
   "source": [
    "#For profitability:\n",
    "def simple_profit(x):\n",
    "    return (x[\"revenue\"]-x[\"budget\"])/(x[\"budget\"])\n",
    "\n",
    "#For popularity:\n",
    "vote_counts = valid_data_models[valid_data_models['vote_count'].notnull()]['vote_count'].astype('int')\n",
    "vote_averages = valid_data_models[valid_data_models['vote_average'].notnull()]['vote_average'].astype('int')\n",
    "C = vote_averages.mean()\n",
    "m = vote_counts.quantile(0.95)\n",
    "def weighted_rating(x):\n",
    "    v = x['vote_count']\n",
    "    R = x['vote_average']\n",
    "    return (v/(v+m) * R) + (m/(m+v) * C)"
   ]
  },
  {
   "cell_type": "code",
   "execution_count": 7,
   "metadata": {},
   "outputs": [
    {
     "data": {
      "text/html": [
       "<div>\n",
       "<style>\n",
       "    .dataframe thead tr:only-child th {\n",
       "        text-align: right;\n",
       "    }\n",
       "\n",
       "    .dataframe thead th {\n",
       "        text-align: left;\n",
       "    }\n",
       "\n",
       "    .dataframe tbody tr th {\n",
       "        vertical-align: top;\n",
       "    }\n",
       "</style>\n",
       "<table border=\"1\" class=\"dataframe\">\n",
       "  <thead>\n",
       "    <tr style=\"text-align: right;\">\n",
       "      <th></th>\n",
       "      <th>budget</th>\n",
       "      <th>popularity</th>\n",
       "      <th>revenue</th>\n",
       "      <th>runtime</th>\n",
       "      <th>vote_average</th>\n",
       "      <th>vote_count</th>\n",
       "      <th>Animation</th>\n",
       "      <th>Crime</th>\n",
       "      <th>History</th>\n",
       "      <th>Horror</th>\n",
       "      <th>Drama</th>\n",
       "      <th>Mystery</th>\n",
       "      <th>Documentary</th>\n",
       "      <th>Fantasy</th>\n",
       "      <th>Action</th>\n",
       "      <th>Thriller</th>\n",
       "      <th>Music</th>\n",
       "      <th>Comedy</th>\n",
       "      <th>Family</th>\n",
       "      <th>Romance</th>\n",
       "      <th>Western</th>\n",
       "      <th>War</th>\n",
       "      <th>Foreign</th>\n",
       "      <th>Adventure</th>\n",
       "      <th>Western Europe</th>\n",
       "      <th>Middle Africa</th>\n",
       "      <th>Northern Africa</th>\n",
       "      <th>Central America</th>\n",
       "      <th>North America</th>\n",
       "      <th>Eastern Asia</th>\n",
       "      <th>South-Eastern Asia</th>\n",
       "      <th>Central Asia</th>\n",
       "      <th>Western Asia</th>\n",
       "      <th>Eastern Europe</th>\n",
       "      <th>Oceania</th>\n",
       "      <th>Southern Africa</th>\n",
       "      <th>Southern Asia</th>\n",
       "      <th>Caribbean</th>\n",
       "      <th>Western Africa</th>\n",
       "      <th>South America</th>\n",
       "      <th>Eastern Africa</th>\n",
       "      <th>is_adult_rated</th>\n",
       "      <th>Spring</th>\n",
       "      <th>Summer</th>\n",
       "      <th>Autumn</th>\n",
       "      <th>Profitability</th>\n",
       "      <th>is_profitable</th>\n",
       "      <th>Weighted_ratings</th>\n",
       "      <th>is_popular</th>\n",
       "    </tr>\n",
       "  </thead>\n",
       "  <tbody>\n",
       "    <tr>\n",
       "      <th>0</th>\n",
       "      <td>3512454</td>\n",
       "      <td>0.134014</td>\n",
       "      <td>115860.0</td>\n",
       "      <td>95.0</td>\n",
       "      <td>7.0</td>\n",
       "      <td>20.0</td>\n",
       "      <td>0</td>\n",
       "      <td>0</td>\n",
       "      <td>0</td>\n",
       "      <td>0</td>\n",
       "      <td>1</td>\n",
       "      <td>0</td>\n",
       "      <td>0</td>\n",
       "      <td>0</td>\n",
       "      <td>0</td>\n",
       "      <td>0</td>\n",
       "      <td>0</td>\n",
       "      <td>0</td>\n",
       "      <td>0</td>\n",
       "      <td>0</td>\n",
       "      <td>0</td>\n",
       "      <td>0</td>\n",
       "      <td>0</td>\n",
       "      <td>0</td>\n",
       "      <td>1</td>\n",
       "      <td>0</td>\n",
       "      <td>0</td>\n",
       "      <td>0</td>\n",
       "      <td>0</td>\n",
       "      <td>0</td>\n",
       "      <td>0</td>\n",
       "      <td>0</td>\n",
       "      <td>0</td>\n",
       "      <td>0</td>\n",
       "      <td>0</td>\n",
       "      <td>0</td>\n",
       "      <td>0</td>\n",
       "      <td>0</td>\n",
       "      <td>0</td>\n",
       "      <td>0</td>\n",
       "      <td>0</td>\n",
       "      <td>0</td>\n",
       "      <td>1</td>\n",
       "      <td>0</td>\n",
       "      <td>0</td>\n",
       "      <td>-0.967015</td>\n",
       "      <td>0</td>\n",
       "      <td>5.786743</td>\n",
       "      <td>0</td>\n",
       "    </tr>\n",
       "    <tr>\n",
       "      <th>1</th>\n",
       "      <td>40000000</td>\n",
       "      <td>6.652197</td>\n",
       "      <td>5446000.0</td>\n",
       "      <td>130.0</td>\n",
       "      <td>5.9</td>\n",
       "      <td>77.0</td>\n",
       "      <td>0</td>\n",
       "      <td>0</td>\n",
       "      <td>0</td>\n",
       "      <td>0</td>\n",
       "      <td>1</td>\n",
       "      <td>0</td>\n",
       "      <td>0</td>\n",
       "      <td>0</td>\n",
       "      <td>0</td>\n",
       "      <td>0</td>\n",
       "      <td>0</td>\n",
       "      <td>0</td>\n",
       "      <td>0</td>\n",
       "      <td>0</td>\n",
       "      <td>0</td>\n",
       "      <td>0</td>\n",
       "      <td>0</td>\n",
       "      <td>1</td>\n",
       "      <td>1</td>\n",
       "      <td>0</td>\n",
       "      <td>1</td>\n",
       "      <td>0</td>\n",
       "      <td>0</td>\n",
       "      <td>0</td>\n",
       "      <td>0</td>\n",
       "      <td>0</td>\n",
       "      <td>1</td>\n",
       "      <td>0</td>\n",
       "      <td>0</td>\n",
       "      <td>0</td>\n",
       "      <td>0</td>\n",
       "      <td>0</td>\n",
       "      <td>0</td>\n",
       "      <td>0</td>\n",
       "      <td>0</td>\n",
       "      <td>0</td>\n",
       "      <td>0</td>\n",
       "      <td>0</td>\n",
       "      <td>0</td>\n",
       "      <td>-0.863850</td>\n",
       "      <td>0</td>\n",
       "      <td>5.783303</td>\n",
       "      <td>0</td>\n",
       "    </tr>\n",
       "    <tr>\n",
       "      <th>2</th>\n",
       "      <td>30000000</td>\n",
       "      <td>10.342202</td>\n",
       "      <td>160259319.0</td>\n",
       "      <td>111.0</td>\n",
       "      <td>6.1</td>\n",
       "      <td>1013.0</td>\n",
       "      <td>0</td>\n",
       "      <td>0</td>\n",
       "      <td>0</td>\n",
       "      <td>0</td>\n",
       "      <td>0</td>\n",
       "      <td>0</td>\n",
       "      <td>0</td>\n",
       "      <td>0</td>\n",
       "      <td>0</td>\n",
       "      <td>0</td>\n",
       "      <td>0</td>\n",
       "      <td>1</td>\n",
       "      <td>0</td>\n",
       "      <td>1</td>\n",
       "      <td>0</td>\n",
       "      <td>0</td>\n",
       "      <td>0</td>\n",
       "      <td>0</td>\n",
       "      <td>0</td>\n",
       "      <td>0</td>\n",
       "      <td>0</td>\n",
       "      <td>0</td>\n",
       "      <td>0</td>\n",
       "      <td>0</td>\n",
       "      <td>0</td>\n",
       "      <td>0</td>\n",
       "      <td>0</td>\n",
       "      <td>0</td>\n",
       "      <td>0</td>\n",
       "      <td>0</td>\n",
       "      <td>0</td>\n",
       "      <td>0</td>\n",
       "      <td>0</td>\n",
       "      <td>0</td>\n",
       "      <td>0</td>\n",
       "      <td>0</td>\n",
       "      <td>0</td>\n",
       "      <td>0</td>\n",
       "      <td>0</td>\n",
       "      <td>4.341977</td>\n",
       "      <td>1</td>\n",
       "      <td>5.840466</td>\n",
       "      <td>0</td>\n",
       "    </tr>\n",
       "    <tr>\n",
       "      <th>3</th>\n",
       "      <td>25000000</td>\n",
       "      <td>12.868098</td>\n",
       "      <td>170764026.0</td>\n",
       "      <td>85.0</td>\n",
       "      <td>6.4</td>\n",
       "      <td>2297.0</td>\n",
       "      <td>0</td>\n",
       "      <td>0</td>\n",
       "      <td>0</td>\n",
       "      <td>0</td>\n",
       "      <td>0</td>\n",
       "      <td>0</td>\n",
       "      <td>0</td>\n",
       "      <td>0</td>\n",
       "      <td>1</td>\n",
       "      <td>1</td>\n",
       "      <td>0</td>\n",
       "      <td>0</td>\n",
       "      <td>0</td>\n",
       "      <td>0</td>\n",
       "      <td>0</td>\n",
       "      <td>0</td>\n",
       "      <td>0</td>\n",
       "      <td>0</td>\n",
       "      <td>0</td>\n",
       "      <td>0</td>\n",
       "      <td>0</td>\n",
       "      <td>0</td>\n",
       "      <td>0</td>\n",
       "      <td>0</td>\n",
       "      <td>0</td>\n",
       "      <td>0</td>\n",
       "      <td>0</td>\n",
       "      <td>0</td>\n",
       "      <td>0</td>\n",
       "      <td>0</td>\n",
       "      <td>0</td>\n",
       "      <td>0</td>\n",
       "      <td>0</td>\n",
       "      <td>0</td>\n",
       "      <td>0</td>\n",
       "      <td>0</td>\n",
       "      <td>0</td>\n",
       "      <td>0</td>\n",
       "      <td>0</td>\n",
       "      <td>5.830561</td>\n",
       "      <td>1</td>\n",
       "      <td>5.992170</td>\n",
       "      <td>1</td>\n",
       "    </tr>\n",
       "    <tr>\n",
       "      <th>4</th>\n",
       "      <td>35000000</td>\n",
       "      <td>7.852170</td>\n",
       "      <td>32483410.0</td>\n",
       "      <td>101.0</td>\n",
       "      <td>5.9</td>\n",
       "      <td>241.0</td>\n",
       "      <td>0</td>\n",
       "      <td>0</td>\n",
       "      <td>0</td>\n",
       "      <td>0</td>\n",
       "      <td>1</td>\n",
       "      <td>0</td>\n",
       "      <td>0</td>\n",
       "      <td>0</td>\n",
       "      <td>0</td>\n",
       "      <td>0</td>\n",
       "      <td>0</td>\n",
       "      <td>0</td>\n",
       "      <td>0</td>\n",
       "      <td>0</td>\n",
       "      <td>0</td>\n",
       "      <td>0</td>\n",
       "      <td>0</td>\n",
       "      <td>0</td>\n",
       "      <td>0</td>\n",
       "      <td>0</td>\n",
       "      <td>0</td>\n",
       "      <td>0</td>\n",
       "      <td>0</td>\n",
       "      <td>0</td>\n",
       "      <td>0</td>\n",
       "      <td>0</td>\n",
       "      <td>0</td>\n",
       "      <td>0</td>\n",
       "      <td>0</td>\n",
       "      <td>0</td>\n",
       "      <td>0</td>\n",
       "      <td>0</td>\n",
       "      <td>0</td>\n",
       "      <td>0</td>\n",
       "      <td>0</td>\n",
       "      <td>0</td>\n",
       "      <td>0</td>\n",
       "      <td>0</td>\n",
       "      <td>0</td>\n",
       "      <td>-0.071903</td>\n",
       "      <td>0</td>\n",
       "      <td>5.787390</td>\n",
       "      <td>0</td>\n",
       "    </tr>\n",
       "  </tbody>\n",
       "</table>\n",
       "</div>"
      ],
      "text/plain": [
       "     budget  popularity      revenue  runtime  vote_average  vote_count  Animation  Crime  History  Horror  Drama  Mystery  Documentary  Fantasy  Action  Thriller  Music  Comedy  Family  Romance  Western  War  Foreign  Adventure  Western Europe  Middle Africa  Northern Africa  Central America  North America  Eastern Asia  South-Eastern Asia  Central Asia   Western Asia  Eastern Europe  Oceania  Southern Africa  Southern Asia   Caribbean  Western Africa  South America  Eastern Africa  \\\n",
       "0   3512454    0.134014     115860.0     95.0           7.0        20.0          0      0        0       0      1        0            0        0       0         0      0       0       0        0        0    0        0          0               1              0                0                0              0             0                   0              0             0               0        0                0               0          0               0              0               0   \n",
       "1  40000000    6.652197    5446000.0    130.0           5.9        77.0          0      0        0       0      1        0            0        0       0         0      0       0       0        0        0    0        0          1               1              0                1                0              0             0                   0              0             1               0        0                0               0          0               0              0               0   \n",
       "2  30000000   10.342202  160259319.0    111.0           6.1      1013.0          0      0        0       0      0        0            0        0       0         0      0       1       0        1        0    0        0          0               0              0                0                0              0             0                   0              0             0               0        0                0               0          0               0              0               0   \n",
       "3  25000000   12.868098  170764026.0     85.0           6.4      2297.0          0      0        0       0      0        0            0        0       1         1      0       0       0        0        0    0        0          0               0              0                0                0              0             0                   0              0             0               0        0                0               0          0               0              0               0   \n",
       "4  35000000    7.852170   32483410.0    101.0           5.9       241.0          0      0        0       0      1        0            0        0       0         0      0       0       0        0        0    0        0          0               0              0                0                0              0             0                   0              0             0               0        0                0               0          0               0              0               0   \n",
       "\n",
       "   is_adult_rated  Spring  Summer  Autumn  Profitability  is_profitable  Weighted_ratings  is_popular  \n",
       "0               0       1       0       0      -0.967015              0          5.786743           0  \n",
       "1               0       0       0       0      -0.863850              0          5.783303           0  \n",
       "2               0       0       0       0       4.341977              1          5.840466           0  \n",
       "3               0       0       0       0       5.830561              1          5.992170           1  \n",
       "4               0       0       0       0      -0.071903              0          5.787390           0  "
      ]
     },
     "execution_count": 7,
     "metadata": {},
     "output_type": "execute_result"
    }
   ],
   "source": [
    "valid_data_models[\"Profitability\"]=valid_data_models.apply(simple_profit,axis=1)\n",
    "valid_data_models[\"is_profitable\"]=np.where(valid_data_models[\"Profitability\"]>2,1,0)\n",
    "valid_data_models[\"Weighted_ratings\"]=valid_data_models.apply(weighted_rating,axis=1)\n",
    "#We shall classify the top 25% of the weighted ratings of the movies as being popular. \n",
    "valid_data_models[\"is_popular\"]=np.where(valid_data_models[\"Weighted_ratings\"]>=valid_data_models[\"Weighted_ratings\"].quantile(0.75),1,0)\n",
    "valid_data_models.head()"
   ]
  },
  {
   "cell_type": "code",
   "execution_count": 45,
   "metadata": {},
   "outputs": [],
   "source": [
    "valid_data_models.to_csv(\"Valid_data_models.csv\",index=False)"
   ]
  },
  {
   "cell_type": "code",
   "execution_count": 8,
   "metadata": {},
   "outputs": [
    {
     "data": {
      "image/png": "[encoded data removed]",
      "text/plain": [
       "<matplotlib.figure.Figure at 0x7f0370abf5f8>"
      ]
     },
     "metadata": {},
     "output_type": "display_data"
    }
   ],
   "source": [
    "labels=\"Profitable\",\"Not Profitable\"\n",
    "sizes=[sum(valid_data_models[\"is_profitable\"]==1),sum(valid_data_models[\"is_profitable\"]==0)]\n",
    "colors=[\"green\",\"red\"]\n",
    "plt.pie(sizes, labels=labels, colors=colors,\n",
    "        autopct='%1.1f%%',startangle=90)\n",
    " \n",
    "plt.axis('equal')\n",
    "plt.show()"
   ]
  },
  {
   "cell_type": "markdown",
   "metadata": {},
   "source": [
    "**Only about 33% of the movies are \"profitable\"**"
   ]
  },
  {
   "cell_type": "code",
   "execution_count": 9,
   "metadata": {},
   "outputs": [
    {
     "data": {
      "image/png": "[encoded data removed]",
      "text/plain": [
       "<matplotlib.figure.Figure at 0x7f0371390898>"
      ]
     },
     "metadata": {},
     "output_type": "display_data"
    }
   ],
   "source": [
    "labels=\"Popular\",\"Not Popular\"\n",
    "sizes=[sum(valid_data_models[\"is_popular\"]==1),sum(valid_data_models[\"is_popular\"]==0)]\n",
    "colors=[\"green\",\"red\"]\n",
    "plt.pie(sizes, labels=labels, colors=colors,\n",
    "        autopct='%1.1f%%',startangle=90)\n",
    " \n",
    "plt.axis('equal')\n",
    "plt.show()"
   ]
  },
  {
   "cell_type": "markdown",
   "metadata": {},
   "source": [
    "**About 25% of the movies are \"popular\" **"
   ]
  },
  {
   "cell_type": "markdown",
   "metadata": {},
   "source": [
    "# 4) Regression and Classification Models"
   ]
  },
  {
   "cell_type": "markdown",
   "metadata": {},
   "source": [
    "**We would be performing the following methods to understand and predict Profitability and Popularity of movies**\n",
    "\n",
    "1. Multi Linear Regression\n",
    "2. Logistic Regression\n",
    "3. SVM\n",
    "4. Decision Tree/Classification Tree\n",
    "5. Random Forest\n",
    "6. XGBoost"
   ]
  },
  {
   "cell_type": "markdown",
   "metadata": {},
   "source": [
    "# 4.1  Regression and Classification for PROFITABILITY"
   ]
  },
  {
   "cell_type": "markdown",
   "metadata": {},
   "source": [
    "# 4.1.1 Multi-Linear Regression"
   ]
  },
  {
   "cell_type": "code",
   "execution_count": 10,
   "metadata": {},
   "outputs": [
    {
     "data": {
      "text/html": [
       "<table class=\"simpletable\">\n",
       "<caption>OLS Regression Results</caption>\n",
       "<tr>\n",
       "  <th>Dep. Variable:</th>         <td>revenue</td>     <th>  R-squared:         </th> <td>   0.711</td> \n",
       "</tr>\n",
       "<tr>\n",
       "  <th>Model:</th>                   <td>OLS</td>       <th>  Adj. R-squared:    </th> <td>   0.706</td> \n",
       "</tr>\n",
       "<tr>\n",
       "  <th>Method:</th>             <td>Least Squares</td>  <th>  F-statistic:       </th> <td>   135.0</td> \n",
       "</tr>\n",
       "<tr>\n",
       "  <th>Date:</th>             <td>Tue, 03 Apr 2018</td> <th>  Prob (F-statistic):</th>  <td>  0.00</td>  \n",
       "</tr>\n",
       "<tr>\n",
       "  <th>Time:</th>                 <td>21:57:37</td>     <th>  Log-Likelihood:    </th> <td> -41447.</td> \n",
       "</tr>\n",
       "<tr>\n",
       "  <th>No. Observations:</th>      <td>  2062</td>      <th>  AIC:               </th> <td>8.297e+04</td>\n",
       "</tr>\n",
       "<tr>\n",
       "  <th>Df Residuals:</th>          <td>  2025</td>      <th>  BIC:               </th> <td>8.318e+04</td>\n",
       "</tr>\n",
       "<tr>\n",
       "  <th>Df Model:</th>              <td>    37</td>      <th>                     </th>     <td> </td>    \n",
       "</tr>\n",
       "<tr>\n",
       "  <th>Covariance Type:</th>      <td>nonrobust</td>    <th>                     </th>     <td> </td>    \n",
       "</tr>\n",
       "</table>\n",
       "<table class=\"simpletable\">\n",
       "<tr>\n",
       "           <td></td>             <th>coef</th>     <th>std err</th>      <th>t</th>      <th>P>|t|</th>  <th>[0.025</th>    <th>0.975]</th>  \n",
       "</tr>\n",
       "<tr>\n",
       "  <th>budget</th>             <td>    3.2241</td> <td>    0.081</td> <td>   39.944</td> <td> 0.000</td> <td>    3.066</td> <td>    3.382</td>\n",
       "</tr>\n",
       "<tr>\n",
       "  <th>runtime</th>            <td>-5.394e+04</td> <td> 1.77e+05</td> <td>   -0.305</td> <td> 0.760</td> <td>-4.01e+05</td> <td> 2.93e+05</td>\n",
       "</tr>\n",
       "<tr>\n",
       "  <th>Animation</th>          <td> 3.469e+07</td> <td> 1.59e+07</td> <td>    2.183</td> <td> 0.029</td> <td> 3.52e+06</td> <td> 6.58e+07</td>\n",
       "</tr>\n",
       "<tr>\n",
       "  <th>Crime</th>              <td>-9.451e+06</td> <td> 9.37e+06</td> <td>   -1.008</td> <td> 0.313</td> <td>-2.78e+07</td> <td> 8.93e+06</td>\n",
       "</tr>\n",
       "<tr>\n",
       "  <th>History</th>            <td>-1.102e+07</td> <td> 1.53e+07</td> <td>   -0.721</td> <td> 0.471</td> <td> -4.1e+07</td> <td>  1.9e+07</td>\n",
       "</tr>\n",
       "<tr>\n",
       "  <th>Horror</th>             <td> 1.408e+07</td> <td> 1.17e+07</td> <td>    1.205</td> <td> 0.228</td> <td>-8.84e+06</td> <td>  3.7e+07</td>\n",
       "</tr>\n",
       "<tr>\n",
       "  <th>Drama</th>              <td>-1.786e+07</td> <td> 7.44e+06</td> <td>   -2.400</td> <td> 0.016</td> <td>-3.25e+07</td> <td>-3.27e+06</td>\n",
       "</tr>\n",
       "<tr>\n",
       "  <th>Mystery</th>            <td>-1.335e+07</td> <td> 1.19e+07</td> <td>   -1.122</td> <td> 0.262</td> <td>-3.67e+07</td> <td> 9.99e+06</td>\n",
       "</tr>\n",
       "<tr>\n",
       "  <th>Documentary</th>        <td>-1.164e+07</td> <td> 2.88e+07</td> <td>   -0.404</td> <td> 0.686</td> <td>-6.82e+07</td> <td> 4.49e+07</td>\n",
       "</tr>\n",
       "<tr>\n",
       "  <th>Fantasy</th>            <td> -6.95e+05</td> <td> 1.12e+07</td> <td>   -0.062</td> <td> 0.950</td> <td>-2.26e+07</td> <td> 2.12e+07</td>\n",
       "</tr>\n",
       "<tr>\n",
       "  <th>Action</th>             <td>-1.866e+07</td> <td> 8.03e+06</td> <td>   -2.324</td> <td> 0.020</td> <td>-3.44e+07</td> <td>-2.91e+06</td>\n",
       "</tr>\n",
       "<tr>\n",
       "  <th>Thriller</th>           <td> -1.11e+07</td> <td> 7.99e+06</td> <td>   -1.390</td> <td> 0.165</td> <td>-2.68e+07</td> <td> 4.57e+06</td>\n",
       "</tr>\n",
       "<tr>\n",
       "  <th>Music</th>              <td> 2.912e+06</td> <td> 1.86e+07</td> <td>    0.156</td> <td> 0.876</td> <td>-3.36e+07</td> <td> 3.94e+07</td>\n",
       "</tr>\n",
       "<tr>\n",
       "  <th>Comedy</th>             <td> -1.65e+07</td> <td> 7.55e+06</td> <td>   -2.184</td> <td> 0.029</td> <td>-3.13e+07</td> <td>-1.69e+06</td>\n",
       "</tr>\n",
       "<tr>\n",
       "  <th>Family</th>             <td>-1.479e+07</td> <td> 1.36e+07</td> <td>   -1.086</td> <td> 0.278</td> <td>-4.15e+07</td> <td> 1.19e+07</td>\n",
       "</tr>\n",
       "<tr>\n",
       "  <th>Romance</th>            <td> 6.491e+06</td> <td> 8.56e+06</td> <td>    0.759</td> <td> 0.448</td> <td>-1.03e+07</td> <td> 2.33e+07</td>\n",
       "</tr>\n",
       "<tr>\n",
       "  <th>Western</th>            <td>-9.109e+07</td> <td> 3.05e+07</td> <td>   -2.991</td> <td> 0.003</td> <td>-1.51e+08</td> <td>-3.14e+07</td>\n",
       "</tr>\n",
       "<tr>\n",
       "  <th>War</th>                <td>-1.475e+07</td> <td> 1.65e+07</td> <td>   -0.891</td> <td> 0.373</td> <td>-4.72e+07</td> <td> 1.77e+07</td>\n",
       "</tr>\n",
       "<tr>\n",
       "  <th>Foreign</th>            <td>-3.674e+06</td> <td>  3.5e+07</td> <td>   -0.105</td> <td> 0.916</td> <td>-7.23e+07</td> <td>  6.5e+07</td>\n",
       "</tr>\n",
       "<tr>\n",
       "  <th>Adventure</th>          <td> 1.012e+07</td> <td> 9.38e+06</td> <td>    1.079</td> <td> 0.281</td> <td>-8.28e+06</td> <td> 2.85e+07</td>\n",
       "</tr>\n",
       "<tr>\n",
       "  <th>Western Europe</th>     <td>-2.511e+07</td> <td> 7.85e+06</td> <td>   -3.201</td> <td> 0.001</td> <td>-4.05e+07</td> <td>-9.73e+06</td>\n",
       "</tr>\n",
       "<tr>\n",
       "  <th>Middle Africa</th>      <td> 3.039e+07</td> <td> 1.33e+08</td> <td>    0.229</td> <td> 0.819</td> <td> -2.3e+08</td> <td> 2.91e+08</td>\n",
       "</tr>\n",
       "<tr>\n",
       "  <th>Northern Africa</th>    <td>-5.677e+07</td> <td> 7.77e+07</td> <td>   -0.731</td> <td> 0.465</td> <td>-2.09e+08</td> <td> 9.55e+07</td>\n",
       "</tr>\n",
       "<tr>\n",
       "  <th>Central America</th>    <td>-2.812e+07</td> <td> 3.98e+07</td> <td>   -0.706</td> <td> 0.480</td> <td>-1.06e+08</td> <td>    5e+07</td>\n",
       "</tr>\n",
       "<tr>\n",
       "  <th>North America</th>      <td>-2.139e+07</td> <td>  1.3e+07</td> <td>   -1.645</td> <td> 0.100</td> <td>-4.69e+07</td> <td>  4.1e+06</td>\n",
       "</tr>\n",
       "<tr>\n",
       "  <th>Eastern Asia</th>       <td> 5.222e+05</td> <td> 1.58e+07</td> <td>    0.033</td> <td> 0.974</td> <td>-3.05e+07</td> <td> 3.15e+07</td>\n",
       "</tr>\n",
       "<tr>\n",
       "  <th>South-Eastern Asia</th> <td> 1.408e+07</td> <td> 3.15e+07</td> <td>    0.447</td> <td> 0.655</td> <td>-4.76e+07</td> <td> 7.58e+07</td>\n",
       "</tr>\n",
       "<tr>\n",
       "  <th>Central Asia </th>      <td> 1.267e-08</td> <td> 8.82e-08</td> <td>    0.144</td> <td> 0.886</td> <td> -1.6e-07</td> <td> 1.86e-07</td>\n",
       "</tr>\n",
       "<tr>\n",
       "  <th>Western Asia</th>       <td>-1.463e+07</td> <td> 4.53e+07</td> <td>   -0.323</td> <td> 0.747</td> <td>-1.03e+08</td> <td> 7.41e+07</td>\n",
       "</tr>\n",
       "<tr>\n",
       "  <th>Eastern Europe</th>     <td>-2.267e+07</td> <td> 1.44e+07</td> <td>   -1.576</td> <td> 0.115</td> <td>-5.09e+07</td> <td> 5.53e+06</td>\n",
       "</tr>\n",
       "<tr>\n",
       "  <th>Oceania</th>            <td>-6.074e+07</td> <td> 1.85e+07</td> <td>   -3.275</td> <td> 0.001</td> <td>-9.71e+07</td> <td>-2.44e+07</td>\n",
       "</tr>\n",
       "<tr>\n",
       "  <th>Southern Africa</th>    <td>-9.605e-07</td> <td> 5.05e-07</td> <td>   -1.903</td> <td> 0.057</td> <td>-1.95e-06</td> <td> 2.94e-08</td>\n",
       "</tr>\n",
       "<tr>\n",
       "  <th>Southern Asia </th>     <td> 2.661e+06</td> <td> 1.42e+07</td> <td>    0.188</td> <td> 0.851</td> <td>-2.51e+07</td> <td> 3.04e+07</td>\n",
       "</tr>\n",
       "<tr>\n",
       "  <th>Caribbean</th>          <td> 5.866e+07</td> <td> 4.23e+07</td> <td>    1.386</td> <td> 0.166</td> <td>-2.44e+07</td> <td> 1.42e+08</td>\n",
       "</tr>\n",
       "<tr>\n",
       "  <th>Western Africa</th>     <td>-4.686e-08</td> <td>  2.8e-08</td> <td>   -1.673</td> <td> 0.095</td> <td>-1.02e-07</td> <td> 8.08e-09</td>\n",
       "</tr>\n",
       "<tr>\n",
       "  <th>South America</th>      <td>-9.974e+06</td> <td> 3.33e+07</td> <td>   -0.300</td> <td> 0.764</td> <td>-7.53e+07</td> <td> 5.53e+07</td>\n",
       "</tr>\n",
       "<tr>\n",
       "  <th>Eastern Africa</th>     <td>         0</td> <td>        0</td> <td>      nan</td> <td>   nan</td> <td>        0</td> <td>        0</td>\n",
       "</tr>\n",
       "<tr>\n",
       "  <th>is_adult_rated</th>     <td>         0</td> <td>        0</td> <td>      nan</td> <td>   nan</td> <td>        0</td> <td>        0</td>\n",
       "</tr>\n",
       "<tr>\n",
       "  <th>Spring</th>             <td>-1.477e+07</td> <td> 8.53e+06</td> <td>   -1.732</td> <td> 0.083</td> <td>-3.15e+07</td> <td> 1.96e+06</td>\n",
       "</tr>\n",
       "<tr>\n",
       "  <th>Summer</th>             <td>-5.132e+06</td> <td> 8.49e+06</td> <td>   -0.604</td> <td> 0.546</td> <td>-2.18e+07</td> <td> 1.15e+07</td>\n",
       "</tr>\n",
       "<tr>\n",
       "  <th>Autumn</th>             <td>-1.381e+07</td> <td> 8.07e+06</td> <td>   -1.712</td> <td> 0.087</td> <td>-2.96e+07</td> <td> 2.01e+06</td>\n",
       "</tr>\n",
       "<tr>\n",
       "  <th>Weighted_ratings</th>   <td> 6.448e+06</td> <td>  3.6e+06</td> <td>    1.791</td> <td> 0.073</td> <td>-6.13e+05</td> <td> 1.35e+07</td>\n",
       "</tr>\n",
       "</table>\n",
       "<table class=\"simpletable\">\n",
       "<tr>\n",
       "  <th>Omnibus:</th>       <td>1811.261</td> <th>  Durbin-Watson:     </th>  <td>   2.089</td> \n",
       "</tr>\n",
       "<tr>\n",
       "  <th>Prob(Omnibus):</th>  <td> 0.000</td>  <th>  Jarque-Bera (JB):  </th> <td>148480.584</td>\n",
       "</tr>\n",
       "<tr>\n",
       "  <th>Skew:</th>           <td> 3.715</td>  <th>  Prob(JB):          </th>  <td>    0.00</td> \n",
       "</tr>\n",
       "<tr>\n",
       "  <th>Kurtosis:</th>       <td>43.902</td>  <th>  Cond. No.          </th>  <td>1.00e+16</td> \n",
       "</tr>\n",
       "</table>"
      ],
      "text/plain": [
       "<class 'statsmodels.iolib.summary.Summary'>\n",
       "\"\"\"\n",
       "                            OLS Regression Results                            \n",
       "==============================================================================\n",
       "Dep. Variable:                revenue   R-squared:                       0.711\n",
       "Model:                            OLS   Adj. R-squared:                  0.706\n",
       "Method:                 Least Squares   F-statistic:                     135.0\n",
       "Date:                Tue, 03 Apr 2018   Prob (F-statistic):               0.00\n",
       "Time:                        21:57:37   Log-Likelihood:                -41447.\n",
       "No. Observations:                2062   AIC:                         8.297e+04\n",
       "Df Residuals:                    2025   BIC:                         8.318e+04\n",
       "Df Model:                          37                                         \n",
       "Covariance Type:            nonrobust                                         \n",
       "======================================================================================\n",
       "                         coef    std err          t      P>|t|      [0.025      0.975]\n",
       "--------------------------------------------------------------------------------------\n",
       "budget                 3.2241      0.081     39.944      0.000       3.066       3.382\n",
       "runtime            -5.394e+04   1.77e+05     -0.305      0.760   -4.01e+05    2.93e+05\n",
       "Animation           3.469e+07   1.59e+07      2.183      0.029    3.52e+06    6.58e+07\n",
       "Crime              -9.451e+06   9.37e+06     -1.008      0.313   -2.78e+07    8.93e+06\n",
       "History            -1.102e+07   1.53e+07     -0.721      0.471    -4.1e+07     1.9e+07\n",
       "Horror              1.408e+07   1.17e+07      1.205      0.228   -8.84e+06     3.7e+07\n",
       "Drama              -1.786e+07   7.44e+06     -2.400      0.016   -3.25e+07   -3.27e+06\n",
       "Mystery            -1.335e+07   1.19e+07     -1.122      0.262   -3.67e+07    9.99e+06\n",
       "Documentary        -1.164e+07   2.88e+07     -0.404      0.686   -6.82e+07    4.49e+07\n",
       "Fantasy             -6.95e+05   1.12e+07     -0.062      0.950   -2.26e+07    2.12e+07\n",
       "Action             -1.866e+07   8.03e+06     -2.324      0.020   -3.44e+07   -2.91e+06\n",
       "Thriller            -1.11e+07   7.99e+06     -1.390      0.165   -2.68e+07    4.57e+06\n",
       "Music               2.912e+06   1.86e+07      0.156      0.876   -3.36e+07    3.94e+07\n",
       "Comedy              -1.65e+07   7.55e+06     -2.184      0.029   -3.13e+07   -1.69e+06\n",
       "Family             -1.479e+07   1.36e+07     -1.086      0.278   -4.15e+07    1.19e+07\n",
       "Romance             6.491e+06   8.56e+06      0.759      0.448   -1.03e+07    2.33e+07\n",
       "Western            -9.109e+07   3.05e+07     -2.991      0.003   -1.51e+08   -3.14e+07\n",
       "War                -1.475e+07   1.65e+07     -0.891      0.373   -4.72e+07    1.77e+07\n",
       "Foreign            -3.674e+06    3.5e+07     -0.105      0.916   -7.23e+07     6.5e+07\n",
       "Adventure           1.012e+07   9.38e+06      1.079      0.281   -8.28e+06    2.85e+07\n",
       "Western Europe     -2.511e+07   7.85e+06     -3.201      0.001   -4.05e+07   -9.73e+06\n",
       "Middle Africa       3.039e+07   1.33e+08      0.229      0.819    -2.3e+08    2.91e+08\n",
       "Northern Africa    -5.677e+07   7.77e+07     -0.731      0.465   -2.09e+08    9.55e+07\n",
       "Central America    -2.812e+07   3.98e+07     -0.706      0.480   -1.06e+08       5e+07\n",
       "North America      -2.139e+07    1.3e+07     -1.645      0.100   -4.69e+07     4.1e+06\n",
       "Eastern Asia        5.222e+05   1.58e+07      0.033      0.974   -3.05e+07    3.15e+07\n",
       "South-Eastern Asia  1.408e+07   3.15e+07      0.447      0.655   -4.76e+07    7.58e+07\n",
       "Central Asia        1.267e-08   8.82e-08      0.144      0.886    -1.6e-07    1.86e-07\n",
       "Western Asia       -1.463e+07   4.53e+07     -0.323      0.747   -1.03e+08    7.41e+07\n",
       "Eastern Europe     -2.267e+07   1.44e+07     -1.576      0.115   -5.09e+07    5.53e+06\n",
       "Oceania            -6.074e+07   1.85e+07     -3.275      0.001   -9.71e+07   -2.44e+07\n",
       "Southern Africa    -9.605e-07   5.05e-07     -1.903      0.057   -1.95e-06    2.94e-08\n",
       "Southern Asia       2.661e+06   1.42e+07      0.188      0.851   -2.51e+07    3.04e+07\n",
       "Caribbean           5.866e+07   4.23e+07      1.386      0.166   -2.44e+07    1.42e+08\n",
       "Western Africa     -4.686e-08    2.8e-08     -1.673      0.095   -1.02e-07    8.08e-09\n",
       "South America      -9.974e+06   3.33e+07     -0.300      0.764   -7.53e+07    5.53e+07\n",
       "Eastern Africa              0          0        nan        nan           0           0\n",
       "is_adult_rated              0          0        nan        nan           0           0\n",
       "Spring             -1.477e+07   8.53e+06     -1.732      0.083   -3.15e+07    1.96e+06\n",
       "Summer             -5.132e+06   8.49e+06     -0.604      0.546   -2.18e+07    1.15e+07\n",
       "Autumn             -1.381e+07   8.07e+06     -1.712      0.087   -2.96e+07    2.01e+06\n",
       "Weighted_ratings    6.448e+06    3.6e+06      1.791      0.073   -6.13e+05    1.35e+07\n",
       "==============================================================================\n",
       "Omnibus:                     1811.261   Durbin-Watson:                   2.089\n",
       "Prob(Omnibus):                  0.000   Jarque-Bera (JB):           148480.584\n",
       "Skew:                           3.715   Prob(JB):                         0.00\n",
       "Kurtosis:                      43.902   Cond. No.                     1.00e+16\n",
       "==============================================================================\n",
       "\n",
       "Warnings:\n",
       "[1] Standard Errors assume that the covariance matrix of the errors is correctly specified.\n",
       "[2] The smallest eigenvalue is 8.16e-14. This might indicate that there are\n",
       "strong multicollinearity problems or that the design matrix is singular.\n",
       "\"\"\""
      ]
     },
     "execution_count": 10,
     "metadata": {},
     "output_type": "execute_result"
    }
   ],
   "source": [
    "import statsmodels.api as sm\n",
    "X=valid_data_models.drop([\"is_profitable\",\"Profitability\",\"revenue\",\"popularity\",\"vote_average\",\"vote_count\",\"is_popular\"],axis=1)\n",
    "Y=valid_data_models[\"revenue\"]\n",
    "\n",
    "model = sm.OLS(Y, X).fit()\n",
    "predictions = model.predict(X)\n",
    "\n",
    "model.summary()"
   ]
  },
  {
   "cell_type": "markdown",
   "metadata": {},
   "source": [
    "**We will first split our training and test set (20%)**\n",
    "\n",
    "**We will also remove variables that we do not know before a movie is released (e.g profitability, vote counts etc)**"
   ]
  },
  {
   "cell_type": "code",
   "execution_count": 11,
   "metadata": {},
   "outputs": [],
   "source": [
    "from sklearn.cross_validation import train_test_split\n",
    "x=valid_data_models.drop([\"is_profitable\",\"Profitability\",\"revenue\",\"popularity\",\"vote_average\",\"vote_count\",\"Weighted_ratings\",\"is_popular\"],axis=1)\n",
    "y=valid_data_models[\"is_profitable\"]\n",
    "x_train,x_test,y_train,y_test=train_test_split(x,y,test_size=0.2,random_state=0)"
   ]
  },
  {
   "cell_type": "markdown",
   "metadata": {},
   "source": [
    "**We will use 5-fold cross validation**"
   ]
  },
  {
   "cell_type": "code",
   "execution_count": 12,
   "metadata": {},
   "outputs": [],
   "source": [
    "from sklearn.model_selection import KFold\n",
    "k_fold = KFold(n_splits=5, shuffle=True, random_state=0)"
   ]
  },
  {
   "cell_type": "markdown",
   "metadata": {},
   "source": [
    "**We will create functions to calculate the In-sample accuracy, Test accuracy and to plot our ROC curve and confusion matrix for classifying whether a movie would be PROFITABLE.**"
   ]
  },
  {
   "cell_type": "code",
   "execution_count": 13,
   "metadata": {},
   "outputs": [],
   "source": [
    "def prof_train_acc_score(model):\n",
    "    return np.mean(cross_val_score(model,x_train,y_train,cv=k_fold,scoring=\"accuracy\"))\n",
    "def prof_test_acc_score(model):\n",
    "    return accuracy_score(y_test, model.predict(x_test))\n",
    "\n",
    "def confusion_matrix_model(model_used):\n",
    "    cm=confusion_matrix(y_test,model_used.predict(x_test))\n",
    "    col=[\"Predicted Not-Profitable\",\"Predicted Profitable\"]\n",
    "    cm=pd.DataFrame(cm)\n",
    "    cm.columns=[\"Predicted Not-Profitable\",\"Predicted Profitable\"]\n",
    "    cm.index=[\"Actual Not-Profitable\",\"Actual Profitable\"]\n",
    "    #cm[col]=np(cm[col])\n",
    "    return cm\n",
    "\n",
    "def aucscore(model,has_proba=True):\n",
    "    if has_proba:\n",
    "        fpr,tpr,thresh=skplt.metrics.roc_curve(y_test,model.predict_proba(x_test)[:,1])\n",
    "    else:\n",
    "        fpr,tpr,thresh=skplt.metrics.roc_curve(y_test,model.decision_function(x_test))\n",
    "    x=fpr\n",
    "    y=tpr\n",
    "    auc= skplt.metrics.auc(x,y)\n",
    "    return auc\n",
    "def plt_roc_curve(name,model,has_proba=True):\n",
    "    if has_proba:\n",
    "        fpr,tpr,thresh=skplt.metrics.roc_curve(y_test,model.predict_proba(x_test)[:,1])\n",
    "    else:\n",
    "        fpr,tpr,thresh=skplt.metrics.roc_curve(y_test,model.decision_function(x_test))\n",
    "    x=fpr\n",
    "    y=tpr\n",
    "    auc= skplt.metrics.auc(x,y)\n",
    "    plt.plot(x,y,label='ROC curve for %s (AUC = %0.2f)' % (name, auc))\n",
    "    plt.plot([0, 1], [0, 1], 'k--')\n",
    "    plt.xlim((0,1))\n",
    "    plt.ylim((0,1))\n",
    "    plt.xlabel(\"False Positive Rate\")\n",
    "    plt.ylabel(\"True Positive Rate\")\n",
    "    plt.title(\"ROC Curve\")\n",
    "    plt.legend(loc=\"lower right\")\n",
    "    plt.show()"
   ]
  },
  {
   "cell_type": "markdown",
   "metadata": {},
   "source": [
    "# 4.1.2 Classification Methods"
   ]
  },
  {
   "cell_type": "markdown",
   "metadata": {},
   "source": [
    "**Logistic regression**"
   ]
  },
  {
   "cell_type": "code",
   "execution_count": 14,
   "metadata": {},
   "outputs": [
    {
     "name": "stdout",
     "output_type": "stream",
     "text": [
      "In-sample accuracy: 0.657373123331\n",
      "Test accuracy: 0.673123486683\n"
     ]
    },
    {
     "data": {
      "text/html": [
       "<div>\n",
       "<style>\n",
       "    .dataframe thead tr:only-child th {\n",
       "        text-align: right;\n",
       "    }\n",
       "\n",
       "    .dataframe thead th {\n",
       "        text-align: left;\n",
       "    }\n",
       "\n",
       "    .dataframe tbody tr th {\n",
       "        vertical-align: top;\n",
       "    }\n",
       "</style>\n",
       "<table border=\"1\" class=\"dataframe\">\n",
       "  <thead>\n",
       "    <tr style=\"text-align: right;\">\n",
       "      <th></th>\n",
       "      <th>Predicted Not-Profitable</th>\n",
       "      <th>Predicted Profitable</th>\n",
       "    </tr>\n",
       "  </thead>\n",
       "  <tbody>\n",
       "    <tr>\n",
       "      <th>Actual Not-Profitable</th>\n",
       "      <td>270</td>\n",
       "      <td>6</td>\n",
       "    </tr>\n",
       "    <tr>\n",
       "      <th>Actual Profitable</th>\n",
       "      <td>129</td>\n",
       "      <td>8</td>\n",
       "    </tr>\n",
       "  </tbody>\n",
       "</table>\n",
       "</div>"
      ],
      "text/plain": [
       "                       Predicted Not-Profitable  Predicted Profitable\n",
       "Actual Not-Profitable                       270                     6\n",
       "Actual Profitable                           129                     8"
      ]
     },
     "execution_count": 14,
     "metadata": {},
     "output_type": "execute_result"
    }
   ],
   "source": [
    "\n",
    "log_reg=LogisticRegression(penalty=\"l1\")\n",
    "log_reg.fit(x_train,y_train)\n",
    "predicted=log_reg.predict(x_test)\n",
    "\n",
    "print(\"In-sample accuracy: \" + str(prof_train_acc_score(log_reg)))\n",
    "print(\"Test accuracy: \" + str(prof_test_acc_score(log_reg)))\n",
    "confusion_matrix_model(log_reg)"
   ]
  },
  {
   "cell_type": "code",
   "execution_count": 15,
   "metadata": {},
   "outputs": [
    {
     "data": {
      "image/png": "[encoded data removed]",
      "text/plain": [
       "<matplotlib.figure.Figure at 0x7f0370abfa20>"
      ]
     },
     "metadata": {},
     "output_type": "display_data"
    }
   ],
   "source": [
    "plt_roc_curve(\"Logistic Regression\",log_reg,has_proba=True)"
   ]
  },
  {
   "cell_type": "markdown",
   "metadata": {},
   "source": [
    "**SVM**"
   ]
  },
  {
   "cell_type": "code",
   "execution_count": 16,
   "metadata": {},
   "outputs": [
    {
     "name": "stdout",
     "output_type": "stream",
     "text": [
      "In-sample accuracy: 0.53848392742\n",
      "Test accuracy: 0.501210653753\n"
     ]
    },
    {
     "data": {
      "text/html": [
       "<div>\n",
       "<style>\n",
       "    .dataframe thead tr:only-child th {\n",
       "        text-align: right;\n",
       "    }\n",
       "\n",
       "    .dataframe thead th {\n",
       "        text-align: left;\n",
       "    }\n",
       "\n",
       "    .dataframe tbody tr th {\n",
       "        vertical-align: top;\n",
       "    }\n",
       "</style>\n",
       "<table border=\"1\" class=\"dataframe\">\n",
       "  <thead>\n",
       "    <tr style=\"text-align: right;\">\n",
       "      <th></th>\n",
       "      <th>Predicted Not-Profitable</th>\n",
       "      <th>Predicted Profitable</th>\n",
       "    </tr>\n",
       "  </thead>\n",
       "  <tbody>\n",
       "    <tr>\n",
       "      <th>Actual Not-Profitable</th>\n",
       "      <td>128</td>\n",
       "      <td>148</td>\n",
       "    </tr>\n",
       "    <tr>\n",
       "      <th>Actual Profitable</th>\n",
       "      <td>58</td>\n",
       "      <td>79</td>\n",
       "    </tr>\n",
       "  </tbody>\n",
       "</table>\n",
       "</div>"
      ],
      "text/plain": [
       "                       Predicted Not-Profitable  Predicted Profitable\n",
       "Actual Not-Profitable                       128                   148\n",
       "Actual Profitable                            58                    79"
      ]
     },
     "execution_count": 16,
     "metadata": {},
     "output_type": "execute_result"
    }
   ],
   "source": [
    "from sklearn import svm\n",
    "SVM=svm.LinearSVC()\n",
    "SVM.fit(x_train,y_train)\n",
    "predicted=SVM.predict(x_test)\n",
    "\n",
    "print(\"In-sample accuracy: \" + str(prof_train_acc_score(SVM)))\n",
    "print(\"Test accuracy: \" + str(prof_test_acc_score(SVM)))\n",
    "confusion_matrix_model(SVM)"
   ]
  },
  {
   "cell_type": "code",
   "execution_count": 17,
   "metadata": {},
   "outputs": [
    {
     "data": {
      "image/png": "[encoded data removed]",
      "text/plain": [
       "<matplotlib.figure.Figure at 0x7f0365bf9cc0>"
      ]
     },
     "metadata": {},
     "output_type": "display_data"
    }
   ],
   "source": [
    "plt_roc_curve(\"Linear SVM\",SVM,has_proba=False)"
   ]
  },
  {
   "cell_type": "markdown",
   "metadata": {},
   "source": [
    "**KNN**"
   ]
  },
  {
   "cell_type": "code",
   "execution_count": 18,
   "metadata": {},
   "outputs": [
    {
     "name": "stdout",
     "output_type": "stream",
     "text": [
      "In-sample accuracy: 0.670100396058\n",
      "Test accuracy: 0.668280871671\n"
     ]
    },
    {
     "data": {
      "text/html": [
       "<div>\n",
       "<style>\n",
       "    .dataframe thead tr:only-child th {\n",
       "        text-align: right;\n",
       "    }\n",
       "\n",
       "    .dataframe thead th {\n",
       "        text-align: left;\n",
       "    }\n",
       "\n",
       "    .dataframe tbody tr th {\n",
       "        vertical-align: top;\n",
       "    }\n",
       "</style>\n",
       "<table border=\"1\" class=\"dataframe\">\n",
       "  <thead>\n",
       "    <tr style=\"text-align: right;\">\n",
       "      <th></th>\n",
       "      <th>Predicted Not-Profitable</th>\n",
       "      <th>Predicted Profitable</th>\n",
       "    </tr>\n",
       "  </thead>\n",
       "  <tbody>\n",
       "    <tr>\n",
       "      <th>Actual Not-Profitable</th>\n",
       "      <td>276</td>\n",
       "      <td>0</td>\n",
       "    </tr>\n",
       "    <tr>\n",
       "      <th>Actual Profitable</th>\n",
       "      <td>137</td>\n",
       "      <td>0</td>\n",
       "    </tr>\n",
       "  </tbody>\n",
       "</table>\n",
       "</div>"
      ],
      "text/plain": [
       "                       Predicted Not-Profitable  Predicted Profitable\n",
       "Actual Not-Profitable                       276                     0\n",
       "Actual Profitable                           137                     0"
      ]
     },
     "execution_count": 18,
     "metadata": {},
     "output_type": "execute_result"
    }
   ],
   "source": [
    "KNN=KNeighborsClassifier(n_neighbors=170)\n",
    "KNN.fit(x_train,y_train)\n",
    "predicted=KNN.predict(x_test)\n",
    "print(\"In-sample accuracy: \" + str(prof_train_acc_score(KNN)))\n",
    "print(\"Test accuracy: \" + str(prof_test_acc_score(KNN)))\n",
    "confusion_matrix_model(KNN)"
   ]
  },
  {
   "cell_type": "code",
   "execution_count": 19,
   "metadata": {},
   "outputs": [
    {
     "data": {
      "image/png": "[encoded data removed]",
      "text/plain": [
       "<matplotlib.figure.Figure at 0x7f0365bfe668>"
      ]
     },
     "metadata": {},
     "output_type": "display_data"
    }
   ],
   "source": [
    "plt_roc_curve(\"KNN (170)\",KNN,has_proba=True)"
   ]
  },
  {
   "cell_type": "markdown",
   "metadata": {},
   "source": [
    "**Decision Tree/Classification Tree**"
   ]
  },
  {
   "cell_type": "code",
   "execution_count": 20,
   "metadata": {},
   "outputs": [
    {
     "name": "stdout",
     "output_type": "stream",
     "text": [
      "In-sample accuracy: 0.664025052961\n",
      "Test accuracy: 0.670702179177\n"
     ]
    },
    {
     "data": {
      "text/html": [
       "<div>\n",
       "<style>\n",
       "    .dataframe thead tr:only-child th {\n",
       "        text-align: right;\n",
       "    }\n",
       "\n",
       "    .dataframe thead th {\n",
       "        text-align: left;\n",
       "    }\n",
       "\n",
       "    .dataframe tbody tr th {\n",
       "        vertical-align: top;\n",
       "    }\n",
       "</style>\n",
       "<table border=\"1\" class=\"dataframe\">\n",
       "  <thead>\n",
       "    <tr style=\"text-align: right;\">\n",
       "      <th></th>\n",
       "      <th>Predicted Not-Profitable</th>\n",
       "      <th>Predicted Profitable</th>\n",
       "    </tr>\n",
       "  </thead>\n",
       "  <tbody>\n",
       "    <tr>\n",
       "      <th>Actual Not-Profitable</th>\n",
       "      <td>269</td>\n",
       "      <td>7</td>\n",
       "    </tr>\n",
       "    <tr>\n",
       "      <th>Actual Profitable</th>\n",
       "      <td>129</td>\n",
       "      <td>8</td>\n",
       "    </tr>\n",
       "  </tbody>\n",
       "</table>\n",
       "</div>"
      ],
      "text/plain": [
       "                       Predicted Not-Profitable  Predicted Profitable\n",
       "Actual Not-Profitable                       269                     7\n",
       "Actual Profitable                           129                     8"
      ]
     },
     "execution_count": 20,
     "metadata": {},
     "output_type": "execute_result"
    }
   ],
   "source": [
    "Dec_tree=DecisionTreeClassifier(max_depth=4,random_state=5)\n",
    "Dec_tree.fit(x_train,y_train)\n",
    "predicted=Dec_tree.predict(x_test)\n",
    "print(\"In-sample accuracy: \" + str(prof_train_acc_score(Dec_tree)))\n",
    "print(\"Test accuracy: \" + str(prof_test_acc_score(Dec_tree)))\n",
    "confusion_matrix_model(Dec_tree)"
   ]
  },
  {
   "cell_type": "code",
   "execution_count": 21,
   "metadata": {},
   "outputs": [
    {
     "data": {
      "image/png": "[encoded data removed]",
      "text/plain": [
       "<matplotlib.figure.Figure at 0x7f0365ad72b0>"
      ]
     },
     "metadata": {},
     "output_type": "display_data"
    }
   ],
   "source": [
    "plt_roc_curve(\"Decision Tree\",Dec_tree,has_proba=True)"
   ]
  },
  {
   "cell_type": "markdown",
   "metadata": {},
   "source": [
    "**Random Forest**"
   ]
  },
  {
   "cell_type": "code",
   "execution_count": 22,
   "metadata": {},
   "outputs": [
    {
     "name": "stdout",
     "output_type": "stream",
     "text": [
      "In-sample accuracy: 0.677986552455\n",
      "Test accuracy: 0.677966101695\n"
     ]
    },
    {
     "data": {
      "text/html": [
       "<div>\n",
       "<style>\n",
       "    .dataframe thead tr:only-child th {\n",
       "        text-align: right;\n",
       "    }\n",
       "\n",
       "    .dataframe thead th {\n",
       "        text-align: left;\n",
       "    }\n",
       "\n",
       "    .dataframe tbody tr th {\n",
       "        vertical-align: top;\n",
       "    }\n",
       "</style>\n",
       "<table border=\"1\" class=\"dataframe\">\n",
       "  <thead>\n",
       "    <tr style=\"text-align: right;\">\n",
       "      <th></th>\n",
       "      <th>Predicted Not-Profitable</th>\n",
       "      <th>Predicted Profitable</th>\n",
       "    </tr>\n",
       "  </thead>\n",
       "  <tbody>\n",
       "    <tr>\n",
       "      <th>Actual Not-Profitable</th>\n",
       "      <td>274</td>\n",
       "      <td>2</td>\n",
       "    </tr>\n",
       "    <tr>\n",
       "      <th>Actual Profitable</th>\n",
       "      <td>131</td>\n",
       "      <td>6</td>\n",
       "    </tr>\n",
       "  </tbody>\n",
       "</table>\n",
       "</div>"
      ],
      "text/plain": [
       "                       Predicted Not-Profitable  Predicted Profitable\n",
       "Actual Not-Profitable                       274                     2\n",
       "Actual Profitable                           131                     6"
      ]
     },
     "execution_count": 22,
     "metadata": {},
     "output_type": "execute_result"
    }
   ],
   "source": [
    "ranfor = RandomForestClassifier(n_estimators=50, max_features='sqrt',max_depth=6,random_state=10)\n",
    "ranfor = ranfor.fit(x_train,y_train)\n",
    "predicted=ranfor.predict(x_test)\n",
    "print(\"In-sample accuracy: \" + str(prof_train_acc_score(ranfor)))\n",
    "print(\"Test accuracy: \" + str(prof_test_acc_score(ranfor)))\n",
    "confusion_matrix_model(ranfor)"
   ]
  },
  {
   "cell_type": "code",
   "execution_count": 23,
   "metadata": {},
   "outputs": [
    {
     "data": {
      "image/png": "[encoded data removed]",
      "text/plain": [
       "<matplotlib.figure.Figure at 0x7f03703a4f98>"
      ]
     },
     "metadata": {},
     "output_type": "display_data"
    }
   ],
   "source": [
    "plt_roc_curve(\"Random Forest\",ranfor,has_proba=True)"
   ]
  },
  {
   "cell_type": "markdown",
   "metadata": {},
   "source": [
    "**XGboosting**"
   ]
  },
  {
   "cell_type": "code",
   "execution_count": 24,
   "metadata": {},
   "outputs": [
    {
     "name": "stdout",
     "output_type": "stream",
     "text": [
      "In-sample accuracy: 0.681007644837\n",
      "Test accuracy: 0.682808716707\n"
     ]
    },
    {
     "data": {
      "text/html": [
       "<div>\n",
       "<style>\n",
       "    .dataframe thead tr:only-child th {\n",
       "        text-align: right;\n",
       "    }\n",
       "\n",
       "    .dataframe thead th {\n",
       "        text-align: left;\n",
       "    }\n",
       "\n",
       "    .dataframe tbody tr th {\n",
       "        vertical-align: top;\n",
       "    }\n",
       "</style>\n",
       "<table border=\"1\" class=\"dataframe\">\n",
       "  <thead>\n",
       "    <tr style=\"text-align: right;\">\n",
       "      <th></th>\n",
       "      <th>Predicted Not-Profitable</th>\n",
       "      <th>Predicted Profitable</th>\n",
       "    </tr>\n",
       "  </thead>\n",
       "  <tbody>\n",
       "    <tr>\n",
       "      <th>Actual Not-Profitable</th>\n",
       "      <td>272</td>\n",
       "      <td>4</td>\n",
       "    </tr>\n",
       "    <tr>\n",
       "      <th>Actual Profitable</th>\n",
       "      <td>127</td>\n",
       "      <td>10</td>\n",
       "    </tr>\n",
       "  </tbody>\n",
       "</table>\n",
       "</div>"
      ],
      "text/plain": [
       "                       Predicted Not-Profitable  Predicted Profitable\n",
       "Actual Not-Profitable                       272                     4\n",
       "Actual Profitable                           127                    10"
      ]
     },
     "execution_count": 24,
     "metadata": {},
     "output_type": "execute_result"
    }
   ],
   "source": [
    "xgclass = xgb.XGBClassifier(max_depth=3, n_estimators=300, learning_rate=0.01).fit(x_train, y_train)\n",
    "predicted=xgclass.predict(x_test)\n",
    "print(\"In-sample accuracy: \" + str(prof_train_acc_score(xgclass)))\n",
    "print(\"Test accuracy: \" + str(prof_test_acc_score(xgclass)))\n",
    "confusion_matrix_model(xgclass)"
   ]
  },
  {
   "cell_type": "code",
   "execution_count": 25,
   "metadata": {},
   "outputs": [
    {
     "data": {
      "image/png": "[encoded data removed]",
      "text/plain": [
       "<matplotlib.figure.Figure at 0x7f0370abf208>"
      ]
     },
     "metadata": {},
     "output_type": "display_data"
    }
   ],
   "source": [
    "plt_roc_curve(\"XGBoosting\",xgclass,has_proba=True)"
   ]
  },
  {
   "cell_type": "markdown",
   "metadata": {},
   "source": [
    "# 4.1.3 Results for Classification methods for profitability"
   ]
  },
  {
   "cell_type": "code",
   "execution_count": 26,
   "metadata": {},
   "outputs": [
    {
     "data": {
      "text/html": [
       "<div>\n",
       "<style>\n",
       "    .dataframe thead tr:only-child th {\n",
       "        text-align: right;\n",
       "    }\n",
       "\n",
       "    .dataframe thead th {\n",
       "        text-align: left;\n",
       "    }\n",
       "\n",
       "    .dataframe tbody tr th {\n",
       "        vertical-align: top;\n",
       "    }\n",
       "</style>\n",
       "<table border=\"1\" class=\"dataframe\">\n",
       "  <thead>\n",
       "    <tr style=\"text-align: right;\">\n",
       "      <th></th>\n",
       "      <th>Classifier</th>\n",
       "      <th>In-sample Accuracy</th>\n",
       "      <th>Test Accuracy</th>\n",
       "      <th>AUC</th>\n",
       "    </tr>\n",
       "  </thead>\n",
       "  <tbody>\n",
       "    <tr>\n",
       "      <th>0</th>\n",
       "      <td>Logistic Regression</td>\n",
       "      <td>0.657981</td>\n",
       "      <td>0.673123</td>\n",
       "      <td>0.670449</td>\n",
       "    </tr>\n",
       "    <tr>\n",
       "      <th>1</th>\n",
       "      <td>Support Vector Machine</td>\n",
       "      <td>0.456566</td>\n",
       "      <td>0.501211</td>\n",
       "      <td>0.550487</td>\n",
       "    </tr>\n",
       "    <tr>\n",
       "      <th>2</th>\n",
       "      <td>K-Nearest Neighbours</td>\n",
       "      <td>0.670100</td>\n",
       "      <td>0.668281</td>\n",
       "      <td>0.561092</td>\n",
       "    </tr>\n",
       "    <tr>\n",
       "      <th>3</th>\n",
       "      <td>Decision Tree</td>\n",
       "      <td>0.664025</td>\n",
       "      <td>0.670702</td>\n",
       "      <td>0.588477</td>\n",
       "    </tr>\n",
       "    <tr>\n",
       "      <th>4</th>\n",
       "      <td>Random Forest</td>\n",
       "      <td>0.677987</td>\n",
       "      <td>0.677966</td>\n",
       "      <td>0.657331</td>\n",
       "    </tr>\n",
       "    <tr>\n",
       "      <th>5</th>\n",
       "      <td>XGBoost</td>\n",
       "      <td>0.681008</td>\n",
       "      <td>0.682809</td>\n",
       "      <td>0.682588</td>\n",
       "    </tr>\n",
       "  </tbody>\n",
       "</table>\n",
       "</div>"
      ],
      "text/plain": [
       "               Classifier  In-sample Accuracy  Test Accuracy       AUC\n",
       "0     Logistic Regression            0.657981       0.673123  0.670449\n",
       "1  Support Vector Machine            0.456566       0.501211  0.550487\n",
       "2    K-Nearest Neighbours            0.670100       0.668281  0.561092\n",
       "3           Decision Tree            0.664025       0.670702  0.588477\n",
       "4           Random Forest            0.677987       0.677966  0.657331\n",
       "5                 XGBoost            0.681008       0.682809  0.682588"
      ]
     },
     "execution_count": 26,
     "metadata": {},
     "output_type": "execute_result"
    }
   ],
   "source": [
    "Classifiers=[\"Logistic Regression\",\"Support Vector Machine\",\"K-Nearest Neighbours\",\"Decision Tree\",\"Random Forest\",\"XGBoost\"]\n",
    "in_sample_acc=[prof_train_acc_score(x) for x in [log_reg,SVM,KNN,Dec_tree,ranfor,xgclass]]\n",
    "test_acc=[prof_test_acc_score(x) for x in [log_reg,SVM,KNN,Dec_tree,ranfor,xgclass]]\n",
    "auc_scores_prob=[aucscore(x,has_proba=True) for x in [log_reg,KNN,Dec_tree,ranfor,xgclass]]\n",
    "auc_scores_noprob=[aucscore(x,has_proba=False) for x in [SVM]]\n",
    "auc_scores=auc_scores_prob[:1] + auc_scores_noprob + auc_scores_prob[1:]\n",
    "cols=[\"Classifier\",\"In-sample Accuracy\",\"Test Accuracy\",\"AUC\"]\n",
    "profit_results = pd.DataFrame(columns=cols)\n",
    "profit_results[\"Classifier\"]=Classifiers\n",
    "profit_results[\"In-sample Accuracy\"]=in_sample_acc\n",
    "profit_results[\"Test Accuracy\"]=test_acc\n",
    "profit_results[\"AUC\"]=auc_scores\n",
    "profit_results"
   ]
  },
  {
   "cell_type": "markdown",
   "metadata": {},
   "source": [
    "# 4.2  Regression and Classification for POPULARITY"
   ]
  },
  {
   "cell_type": "markdown",
   "metadata": {},
   "source": [
    "# 4.2.1 Multi-Linear Regression"
   ]
  },
  {
   "cell_type": "code",
   "execution_count": 27,
   "metadata": {},
   "outputs": [
    {
     "data": {
      "text/html": [
       "<table class=\"simpletable\">\n",
       "<caption>OLS Regression Results</caption>\n",
       "<tr>\n",
       "  <th>Dep. Variable:</th>    <td>Weighted_ratings</td> <th>  R-squared:         </th> <td>   0.982</td>\n",
       "</tr>\n",
       "<tr>\n",
       "  <th>Model:</th>                   <td>OLS</td>       <th>  Adj. R-squared:    </th> <td>   0.981</td>\n",
       "</tr>\n",
       "<tr>\n",
       "  <th>Method:</th>             <td>Least Squares</td>  <th>  F-statistic:       </th> <td>   2992.</td>\n",
       "</tr>\n",
       "<tr>\n",
       "  <th>Date:</th>             <td>Tue, 03 Apr 2018</td> <th>  Prob (F-statistic):</th>  <td>  0.00</td> \n",
       "</tr>\n",
       "<tr>\n",
       "  <th>Time:</th>                 <td>21:57:44</td>     <th>  Log-Likelihood:    </th> <td> -2468.5</td>\n",
       "</tr>\n",
       "<tr>\n",
       "  <th>No. Observations:</th>      <td>  2062</td>      <th>  AIC:               </th> <td>   5009.</td>\n",
       "</tr>\n",
       "<tr>\n",
       "  <th>Df Residuals:</th>          <td>  2026</td>      <th>  BIC:               </th> <td>   5212.</td>\n",
       "</tr>\n",
       "<tr>\n",
       "  <th>Df Model:</th>              <td>    36</td>      <th>                     </th>     <td> </td>   \n",
       "</tr>\n",
       "<tr>\n",
       "  <th>Covariance Type:</th>      <td>nonrobust</td>    <th>                     </th>     <td> </td>   \n",
       "</tr>\n",
       "</table>\n",
       "<table class=\"simpletable\">\n",
       "<tr>\n",
       "           <td></td>             <th>coef</th>     <th>std err</th>      <th>t</th>      <th>P>|t|</th>  <th>[0.025</th>    <th>0.975]</th>  \n",
       "</tr>\n",
       "<tr>\n",
       "  <th>budget</th>             <td>-1.297e-09</td> <td> 4.97e-10</td> <td>   -2.609</td> <td> 0.009</td> <td>-2.27e-09</td> <td>-3.22e-10</td>\n",
       "</tr>\n",
       "<tr>\n",
       "  <th>runtime</th>            <td>    0.0422</td> <td>    0.001</td> <td>   75.386</td> <td> 0.000</td> <td>    0.041</td> <td>    0.043</td>\n",
       "</tr>\n",
       "<tr>\n",
       "  <th>Animation</th>          <td>    0.8879</td> <td>    0.096</td> <td>    9.244</td> <td> 0.000</td> <td>    0.700</td> <td>    1.076</td>\n",
       "</tr>\n",
       "<tr>\n",
       "  <th>Crime</th>              <td>    0.0263</td> <td>    0.058</td> <td>    0.454</td> <td> 0.650</td> <td>   -0.087</td> <td>    0.140</td>\n",
       "</tr>\n",
       "<tr>\n",
       "  <th>History</th>            <td>   -0.3401</td> <td>    0.094</td> <td>   -3.618</td> <td> 0.000</td> <td>   -0.524</td> <td>   -0.156</td>\n",
       "</tr>\n",
       "<tr>\n",
       "  <th>Horror</th>             <td>    0.8586</td> <td>    0.070</td> <td>   12.347</td> <td> 0.000</td> <td>    0.722</td> <td>    0.995</td>\n",
       "</tr>\n",
       "<tr>\n",
       "  <th>Drama</th>              <td>    0.3761</td> <td>    0.045</td> <td>    8.329</td> <td> 0.000</td> <td>    0.288</td> <td>    0.465</td>\n",
       "</tr>\n",
       "<tr>\n",
       "  <th>Mystery</th>            <td>    0.0541</td> <td>    0.073</td> <td>    0.737</td> <td> 0.461</td> <td>   -0.090</td> <td>    0.198</td>\n",
       "</tr>\n",
       "<tr>\n",
       "  <th>Documentary</th>        <td>    1.2349</td> <td>    0.176</td> <td>    7.029</td> <td> 0.000</td> <td>    0.890</td> <td>    1.580</td>\n",
       "</tr>\n",
       "<tr>\n",
       "  <th>Fantasy</th>            <td>    0.1459</td> <td>    0.069</td> <td>    2.121</td> <td> 0.034</td> <td>    0.011</td> <td>    0.281</td>\n",
       "</tr>\n",
       "<tr>\n",
       "  <th>Action</th>             <td>    0.3324</td> <td>    0.049</td> <td>    6.786</td> <td> 0.000</td> <td>    0.236</td> <td>    0.428</td>\n",
       "</tr>\n",
       "<tr>\n",
       "  <th>Thriller</th>           <td>    0.3989</td> <td>    0.048</td> <td>    8.225</td> <td> 0.000</td> <td>    0.304</td> <td>    0.494</td>\n",
       "</tr>\n",
       "<tr>\n",
       "  <th>Music</th>              <td>    0.0660</td> <td>    0.115</td> <td>    0.574</td> <td> 0.566</td> <td>   -0.159</td> <td>    0.291</td>\n",
       "</tr>\n",
       "<tr>\n",
       "  <th>Comedy</th>             <td>    0.7988</td> <td>    0.043</td> <td>   18.536</td> <td> 0.000</td> <td>    0.714</td> <td>    0.883</td>\n",
       "</tr>\n",
       "<tr>\n",
       "  <th>Family</th>             <td>    0.3689</td> <td>    0.084</td> <td>    4.408</td> <td> 0.000</td> <td>    0.205</td> <td>    0.533</td>\n",
       "</tr>\n",
       "<tr>\n",
       "  <th>Romance</th>            <td>    0.0624</td> <td>    0.053</td> <td>    1.182</td> <td> 0.237</td> <td>   -0.041</td> <td>    0.166</td>\n",
       "</tr>\n",
       "<tr>\n",
       "  <th>Western</th>            <td>    0.1535</td> <td>    0.188</td> <td>    0.817</td> <td> 0.414</td> <td>   -0.215</td> <td>    0.522</td>\n",
       "</tr>\n",
       "<tr>\n",
       "  <th>War</th>                <td>   -0.0218</td> <td>    0.102</td> <td>   -0.214</td> <td> 0.831</td> <td>   -0.222</td> <td>    0.178</td>\n",
       "</tr>\n",
       "<tr>\n",
       "  <th>Foreign</th>            <td>   -0.1732</td> <td>    0.216</td> <td>   -0.802</td> <td> 0.423</td> <td>   -0.597</td> <td>    0.250</td>\n",
       "</tr>\n",
       "<tr>\n",
       "  <th>Adventure</th>          <td>    0.0463</td> <td>    0.058</td> <td>    0.799</td> <td> 0.424</td> <td>   -0.067</td> <td>    0.160</td>\n",
       "</tr>\n",
       "<tr>\n",
       "  <th>Western Europe</th>     <td>    0.1160</td> <td>    0.048</td> <td>    2.399</td> <td> 0.017</td> <td>    0.021</td> <td>    0.211</td>\n",
       "</tr>\n",
       "<tr>\n",
       "  <th>Middle Africa</th>      <td>   -0.6465</td> <td>    0.820</td> <td>   -0.788</td> <td> 0.431</td> <td>   -2.255</td> <td>    0.962</td>\n",
       "</tr>\n",
       "<tr>\n",
       "  <th>Northern Africa</th>    <td>   -0.7591</td> <td>    0.479</td> <td>   -1.585</td> <td> 0.113</td> <td>   -1.698</td> <td>    0.180</td>\n",
       "</tr>\n",
       "<tr>\n",
       "  <th>Central America</th>    <td>   -0.0717</td> <td>    0.246</td> <td>   -0.292</td> <td> 0.771</td> <td>   -0.554</td> <td>    0.410</td>\n",
       "</tr>\n",
       "<tr>\n",
       "  <th>North America</th>      <td>    0.0941</td> <td>    0.080</td> <td>    1.174</td> <td> 0.241</td> <td>   -0.063</td> <td>    0.251</td>\n",
       "</tr>\n",
       "<tr>\n",
       "  <th>Eastern Asia</th>       <td>   -0.0402</td> <td>    0.097</td> <td>   -0.413</td> <td> 0.680</td> <td>   -0.231</td> <td>    0.151</td>\n",
       "</tr>\n",
       "<tr>\n",
       "  <th>South-Eastern Asia</th> <td>   -0.3814</td> <td>    0.194</td> <td>   -1.966</td> <td> 0.049</td> <td>   -0.762</td> <td>   -0.001</td>\n",
       "</tr>\n",
       "<tr>\n",
       "  <th>Central Asia </th>      <td> 6.676e-16</td> <td> 6.35e-16</td> <td>    1.051</td> <td> 0.293</td> <td>-5.78e-16</td> <td> 1.91e-15</td>\n",
       "</tr>\n",
       "<tr>\n",
       "  <th>Western Asia</th>       <td>    0.3825</td> <td>    0.279</td> <td>    1.370</td> <td> 0.171</td> <td>   -0.165</td> <td>    0.930</td>\n",
       "</tr>\n",
       "<tr>\n",
       "  <th>Eastern Europe</th>     <td>    0.4133</td> <td>    0.088</td> <td>    4.683</td> <td> 0.000</td> <td>    0.240</td> <td>    0.586</td>\n",
       "</tr>\n",
       "<tr>\n",
       "  <th>Oceania</th>            <td>    0.1060</td> <td>    0.114</td> <td>    0.926</td> <td> 0.355</td> <td>   -0.118</td> <td>    0.330</td>\n",
       "</tr>\n",
       "<tr>\n",
       "  <th>Southern Africa</th>    <td> 6.353e-15</td> <td> 6.82e-15</td> <td>    0.931</td> <td> 0.352</td> <td>-7.03e-15</td> <td> 1.97e-14</td>\n",
       "</tr>\n",
       "<tr>\n",
       "  <th>Southern Asia </th>     <td>   -1.3025</td> <td>    0.082</td> <td>  -15.800</td> <td> 0.000</td> <td>   -1.464</td> <td>   -1.141</td>\n",
       "</tr>\n",
       "<tr>\n",
       "  <th>Caribbean</th>          <td>   -0.0623</td> <td>    0.261</td> <td>   -0.239</td> <td> 0.811</td> <td>   -0.575</td> <td>    0.450</td>\n",
       "</tr>\n",
       "<tr>\n",
       "  <th>Western Africa</th>     <td>-9.835e-17</td> <td> 1.05e-16</td> <td>   -0.938</td> <td> 0.348</td> <td>-3.04e-16</td> <td> 1.07e-16</td>\n",
       "</tr>\n",
       "<tr>\n",
       "  <th>South America</th>      <td>   -0.0144</td> <td>    0.205</td> <td>   -0.070</td> <td> 0.944</td> <td>   -0.417</td> <td>    0.388</td>\n",
       "</tr>\n",
       "<tr>\n",
       "  <th>Eastern Africa</th>     <td>         0</td> <td>        0</td> <td>      nan</td> <td>   nan</td> <td>        0</td> <td>        0</td>\n",
       "</tr>\n",
       "<tr>\n",
       "  <th>is_adult_rated</th>     <td>         0</td> <td>        0</td> <td>      nan</td> <td>   nan</td> <td>        0</td> <td>        0</td>\n",
       "</tr>\n",
       "<tr>\n",
       "  <th>Spring</th>             <td>    0.4925</td> <td>    0.051</td> <td>    9.567</td> <td> 0.000</td> <td>    0.392</td> <td>    0.593</td>\n",
       "</tr>\n",
       "<tr>\n",
       "  <th>Summer</th>             <td>    0.4907</td> <td>    0.051</td> <td>    9.571</td> <td> 0.000</td> <td>    0.390</td> <td>    0.591</td>\n",
       "</tr>\n",
       "<tr>\n",
       "  <th>Autumn</th>             <td>    0.5026</td> <td>    0.049</td> <td>   10.358</td> <td> 0.000</td> <td>    0.407</td> <td>    0.598</td>\n",
       "</tr>\n",
       "</table>\n",
       "<table class=\"simpletable\">\n",
       "<tr>\n",
       "  <th>Omnibus:</th>       <td>679.464</td> <th>  Durbin-Watson:     </th> <td>   1.887</td> \n",
       "</tr>\n",
       "<tr>\n",
       "  <th>Prob(Omnibus):</th> <td> 0.000</td>  <th>  Jarque-Bera (JB):  </th> <td>31753.024</td>\n",
       "</tr>\n",
       "<tr>\n",
       "  <th>Skew:</th>          <td>-0.790</td>  <th>  Prob(JB):          </th> <td>    0.00</td> \n",
       "</tr>\n",
       "<tr>\n",
       "  <th>Kurtosis:</th>      <td>22.159</td>  <th>  Cond. No.          </th> <td>1.00e+16</td> \n",
       "</tr>\n",
       "</table>"
      ],
      "text/plain": [
       "<class 'statsmodels.iolib.summary.Summary'>\n",
       "\"\"\"\n",
       "                            OLS Regression Results                            \n",
       "==============================================================================\n",
       "Dep. Variable:       Weighted_ratings   R-squared:                       0.982\n",
       "Model:                            OLS   Adj. R-squared:                  0.981\n",
       "Method:                 Least Squares   F-statistic:                     2992.\n",
       "Date:                Tue, 03 Apr 2018   Prob (F-statistic):               0.00\n",
       "Time:                        21:57:44   Log-Likelihood:                -2468.5\n",
       "No. Observations:                2062   AIC:                             5009.\n",
       "Df Residuals:                    2026   BIC:                             5212.\n",
       "Df Model:                          36                                         \n",
       "Covariance Type:            nonrobust                                         \n",
       "======================================================================================\n",
       "                         coef    std err          t      P>|t|      [0.025      0.975]\n",
       "--------------------------------------------------------------------------------------\n",
       "budget             -1.297e-09   4.97e-10     -2.609      0.009   -2.27e-09   -3.22e-10\n",
       "runtime                0.0422      0.001     75.386      0.000       0.041       0.043\n",
       "Animation              0.8879      0.096      9.244      0.000       0.700       1.076\n",
       "Crime                  0.0263      0.058      0.454      0.650      -0.087       0.140\n",
       "History               -0.3401      0.094     -3.618      0.000      -0.524      -0.156\n",
       "Horror                 0.8586      0.070     12.347      0.000       0.722       0.995\n",
       "Drama                  0.3761      0.045      8.329      0.000       0.288       0.465\n",
       "Mystery                0.0541      0.073      0.737      0.461      -0.090       0.198\n",
       "Documentary            1.2349      0.176      7.029      0.000       0.890       1.580\n",
       "Fantasy                0.1459      0.069      2.121      0.034       0.011       0.281\n",
       "Action                 0.3324      0.049      6.786      0.000       0.236       0.428\n",
       "Thriller               0.3989      0.048      8.225      0.000       0.304       0.494\n",
       "Music                  0.0660      0.115      0.574      0.566      -0.159       0.291\n",
       "Comedy                 0.7988      0.043     18.536      0.000       0.714       0.883\n",
       "Family                 0.3689      0.084      4.408      0.000       0.205       0.533\n",
       "Romance                0.0624      0.053      1.182      0.237      -0.041       0.166\n",
       "Western                0.1535      0.188      0.817      0.414      -0.215       0.522\n",
       "War                   -0.0218      0.102     -0.214      0.831      -0.222       0.178\n",
       "Foreign               -0.1732      0.216     -0.802      0.423      -0.597       0.250\n",
       "Adventure              0.0463      0.058      0.799      0.424      -0.067       0.160\n",
       "Western Europe         0.1160      0.048      2.399      0.017       0.021       0.211\n",
       "Middle Africa         -0.6465      0.820     -0.788      0.431      -2.255       0.962\n",
       "Northern Africa       -0.7591      0.479     -1.585      0.113      -1.698       0.180\n",
       "Central America       -0.0717      0.246     -0.292      0.771      -0.554       0.410\n",
       "North America          0.0941      0.080      1.174      0.241      -0.063       0.251\n",
       "Eastern Asia          -0.0402      0.097     -0.413      0.680      -0.231       0.151\n",
       "South-Eastern Asia    -0.3814      0.194     -1.966      0.049      -0.762      -0.001\n",
       "Central Asia        6.676e-16   6.35e-16      1.051      0.293   -5.78e-16    1.91e-15\n",
       "Western Asia           0.3825      0.279      1.370      0.171      -0.165       0.930\n",
       "Eastern Europe         0.4133      0.088      4.683      0.000       0.240       0.586\n",
       "Oceania                0.1060      0.114      0.926      0.355      -0.118       0.330\n",
       "Southern Africa     6.353e-15   6.82e-15      0.931      0.352   -7.03e-15    1.97e-14\n",
       "Southern Asia         -1.3025      0.082    -15.800      0.000      -1.464      -1.141\n",
       "Caribbean             -0.0623      0.261     -0.239      0.811      -0.575       0.450\n",
       "Western Africa     -9.835e-17   1.05e-16     -0.938      0.348   -3.04e-16    1.07e-16\n",
       "South America         -0.0144      0.205     -0.070      0.944      -0.417       0.388\n",
       "Eastern Africa              0          0        nan        nan           0           0\n",
       "is_adult_rated              0          0        nan        nan           0           0\n",
       "Spring                 0.4925      0.051      9.567      0.000       0.392       0.593\n",
       "Summer                 0.4907      0.051      9.571      0.000       0.390       0.591\n",
       "Autumn                 0.5026      0.049     10.358      0.000       0.407       0.598\n",
       "==============================================================================\n",
       "Omnibus:                      679.464   Durbin-Watson:                   1.887\n",
       "Prob(Omnibus):                  0.000   Jarque-Bera (JB):            31753.024\n",
       "Skew:                          -0.790   Prob(JB):                         0.00\n",
       "Kurtosis:                      22.159   Cond. No.                     1.00e+16\n",
       "==============================================================================\n",
       "\n",
       "Warnings:\n",
       "[1] Standard Errors assume that the covariance matrix of the errors is correctly specified.\n",
       "[2] The smallest eigenvalue is 8.16e-14. This might indicate that there are\n",
       "strong multicollinearity problems or that the design matrix is singular.\n",
       "\"\"\""
      ]
     },
     "execution_count": 27,
     "metadata": {},
     "output_type": "execute_result"
    }
   ],
   "source": [
    "X=valid_data_models.drop([\"is_profitable\",\"Profitability\",\"revenue\",\"popularity\",\"vote_average\",\"vote_count\",\"Weighted_ratings\",\"is_popular\"],axis=1)\n",
    "Y=valid_data_models[\"Weighted_ratings\"]\n",
    "\n",
    "model = sm.OLS(Y, X).fit()\n",
    "predictions = model.predict(X)\n",
    "\n",
    "model.summary()"
   ]
  },
  {
   "cell_type": "markdown",
   "metadata": {},
   "source": [
    "**We will first split our training and test set (20%)**\n",
    "\n",
    "**We will also remove variables that we do not know before a movie is released (e.g profitability, vote counts etc)**"
   ]
  },
  {
   "cell_type": "code",
   "execution_count": 28,
   "metadata": {},
   "outputs": [],
   "source": [
    "x_pop=valid_data_models.drop([\"is_profitable\",\"Profitability\",\"revenue\",\"popularity\",\"vote_average\",\"vote_count\",\"Weighted_ratings\",\"is_popular\"],axis=1)\n",
    "y_pop=valid_data_models[\"is_popular\"]\n",
    "x_pop_train,x_pop_test,y_pop_train,y_pop_test=train_test_split(x_pop,y_pop,test_size=0.2,random_state=0)"
   ]
  },
  {
   "cell_type": "markdown",
   "metadata": {},
   "source": [
    "**We will use 5-fold cross validation**"
   ]
  },
  {
   "cell_type": "code",
   "execution_count": 29,
   "metadata": {},
   "outputs": [],
   "source": [
    "from sklearn.model_selection import KFold\n",
    "k_fold = KFold(n_splits=5, shuffle=True, random_state=0)"
   ]
  },
  {
   "cell_type": "markdown",
   "metadata": {},
   "source": [
    "**We will create functions to calculate the In-sample accuracy, Test accuracy and to plot our ROC curve and confusion matrix for classifying whether a movie would be POPULAR.**"
   ]
  },
  {
   "cell_type": "code",
   "execution_count": 30,
   "metadata": {},
   "outputs": [],
   "source": [
    "def pop_train_acc_score(model):\n",
    "    return np.mean(cross_val_score(model,x_pop_train,y_pop_train,cv=k_fold,scoring=\"accuracy\"))\n",
    "def pop_test_acc_score(model):\n",
    "    return accuracy_score(y_pop_test, model.predict(x_pop_test))\n",
    "def confusion_matrix_model(model_used):\n",
    "    cm=confusion_matrix(y_pop_test,model_used.predict(x_pop_test))\n",
    "    col=[\"Predicted Not-Popular\",\"Predicted Popular\"]\n",
    "    cm=pd.DataFrame(cm)\n",
    "    cm.columns=[\"Predicted Not-Popular\",\"Predicted Popular\"]\n",
    "    cm.index=[\"Actual Not-Popular\",\"Actual Popular\"]\n",
    "    #cm[col]=np(cm[col])\n",
    "    return cm\n",
    "\n",
    "def aucscore(model,has_proba=True):\n",
    "    if has_proba:\n",
    "        fpr,tpr,thresh=skplt.metrics.roc_curve(y_pop_test,model.predict_proba(x_pop_test)[:,1])\n",
    "    else:\n",
    "        fpr,tpr,thresh=skplt.metrics.roc_curve(y_pop_test,model.decision_function(x_pop_test))\n",
    "    x=fpr\n",
    "    y=tpr\n",
    "    auc= skplt.metrics.auc(x,y)\n",
    "    return auc\n",
    "def plt_roc_curve(name,model,has_proba=True):\n",
    "    if has_proba:\n",
    "        fpr,tpr,thresh=skplt.metrics.roc_curve(y_pop_test,model.predict_proba(x_pop_test)[:,1])\n",
    "    else:\n",
    "        fpr,tpr,thresh=skplt.metrics.roc_curve(y_pop_test,model.decision_function(x_pop_test))\n",
    "    x=fpr\n",
    "    y=tpr\n",
    "    auc= skplt.metrics.auc(x,y)\n",
    "    plt.plot(x,y,label='ROC curve for %s (AUC = %0.2f)' % (name, auc))\n",
    "    plt.plot([0, 1], [0, 1], 'k--')\n",
    "    plt.xlim((0,1))\n",
    "    plt.ylim((0,1))\n",
    "    plt.xlabel(\"False Positive Rate\")\n",
    "    plt.ylabel(\"True Positive Rate\")\n",
    "    plt.title(\"ROC Curve\")\n",
    "    plt.legend(loc=\"lower right\")\n",
    "    plt.show()"
   ]
  },
  {
   "cell_type": "markdown",
   "metadata": {},
   "source": [
    "# 4.2.2 Classification Methods"
   ]
  },
  {
   "cell_type": "markdown",
   "metadata": {},
   "source": [
    "**Logistic regression**"
   ]
  },
  {
   "cell_type": "code",
   "execution_count": 31,
   "metadata": {},
   "outputs": [
    {
     "name": "stdout",
     "output_type": "stream",
     "text": [
      "In-sample accuracy: 0.793220963434\n",
      "Test accuracy: 0.769975786925\n"
     ]
    },
    {
     "data": {
      "text/html": [
       "<div>\n",
       "<style>\n",
       "    .dataframe thead tr:only-child th {\n",
       "        text-align: right;\n",
       "    }\n",
       "\n",
       "    .dataframe thead th {\n",
       "        text-align: left;\n",
       "    }\n",
       "\n",
       "    .dataframe tbody tr th {\n",
       "        vertical-align: top;\n",
       "    }\n",
       "</style>\n",
       "<table border=\"1\" class=\"dataframe\">\n",
       "  <thead>\n",
       "    <tr style=\"text-align: right;\">\n",
       "      <th></th>\n",
       "      <th>Predicted Not-Popular</th>\n",
       "      <th>Predicted Popular</th>\n",
       "    </tr>\n",
       "  </thead>\n",
       "  <tbody>\n",
       "    <tr>\n",
       "      <th>Actual Not-Popular</th>\n",
       "      <td>288</td>\n",
       "      <td>14</td>\n",
       "    </tr>\n",
       "    <tr>\n",
       "      <th>Actual Popular</th>\n",
       "      <td>81</td>\n",
       "      <td>30</td>\n",
       "    </tr>\n",
       "  </tbody>\n",
       "</table>\n",
       "</div>"
      ],
      "text/plain": [
       "                    Predicted Not-Popular  Predicted Popular\n",
       "Actual Not-Popular                    288                 14\n",
       "Actual Popular                         81                 30"
      ]
     },
     "execution_count": 31,
     "metadata": {},
     "output_type": "execute_result"
    }
   ],
   "source": [
    "from sklearn.metrics import accuracy_score\n",
    "log_reg_pop=LogisticRegression(penalty=\"l1\")\n",
    "log_reg_pop.fit(x_pop_train,y_pop_train)\n",
    "predicted=log_reg_pop.predict(x_pop_test)\n",
    "\n",
    "print(\"In-sample accuracy: \" + str(pop_train_acc_score(log_reg_pop)))\n",
    "print(\"Test accuracy: \" + str(pop_test_acc_score(log_reg_pop)))\n",
    "confusion_matrix_model(log_reg_pop)"
   ]
  },
  {
   "cell_type": "code",
   "execution_count": 32,
   "metadata": {},
   "outputs": [
    {
     "data": {
      "image/png": "[encoded data removed]",
      "text/plain": [
       "<matplotlib.figure.Figure at 0x7f0365a21da0>"
      ]
     },
     "metadata": {},
     "output_type": "display_data"
    }
   ],
   "source": [
    "plt_roc_curve(\"Logistic Regression\",log_reg_pop,has_proba=True)"
   ]
  },
  {
   "cell_type": "markdown",
   "metadata": {},
   "source": [
    "**SVM**"
   ]
  },
  {
   "cell_type": "code",
   "execution_count": 33,
   "metadata": {},
   "outputs": [
    {
     "name": "stdout",
     "output_type": "stream",
     "text": [
      "In-sample accuracy: 0.586344294004\n",
      "Test accuracy: 0.750605326877\n"
     ]
    },
    {
     "data": {
      "text/html": [
       "<div>\n",
       "<style>\n",
       "    .dataframe thead tr:only-child th {\n",
       "        text-align: right;\n",
       "    }\n",
       "\n",
       "    .dataframe thead th {\n",
       "        text-align: left;\n",
       "    }\n",
       "\n",
       "    .dataframe tbody tr th {\n",
       "        vertical-align: top;\n",
       "    }\n",
       "</style>\n",
       "<table border=\"1\" class=\"dataframe\">\n",
       "  <thead>\n",
       "    <tr style=\"text-align: right;\">\n",
       "      <th></th>\n",
       "      <th>Predicted Not-Popular</th>\n",
       "      <th>Predicted Popular</th>\n",
       "    </tr>\n",
       "  </thead>\n",
       "  <tbody>\n",
       "    <tr>\n",
       "      <th>Actual Not-Popular</th>\n",
       "      <td>297</td>\n",
       "      <td>5</td>\n",
       "    </tr>\n",
       "    <tr>\n",
       "      <th>Actual Popular</th>\n",
       "      <td>98</td>\n",
       "      <td>13</td>\n",
       "    </tr>\n",
       "  </tbody>\n",
       "</table>\n",
       "</div>"
      ],
      "text/plain": [
       "                    Predicted Not-Popular  Predicted Popular\n",
       "Actual Not-Popular                    297                  5\n",
       "Actual Popular                         98                 13"
      ]
     },
     "execution_count": 33,
     "metadata": {},
     "output_type": "execute_result"
    }
   ],
   "source": [
    "from sklearn import svm\n",
    "SVM_pop=svm.LinearSVC()\n",
    "SVM_pop.fit(x_pop_train,y_pop_train)\n",
    "predicted=SVM_pop.predict(x_pop_test)\n",
    "\n",
    "print(\"In-sample accuracy: \" + str(pop_train_acc_score(SVM_pop)))\n",
    "print(\"Test accuracy: \" + str(pop_test_acc_score(SVM_pop)))\n",
    "confusion_matrix_model(SVM_pop)"
   ]
  },
  {
   "cell_type": "code",
   "execution_count": 34,
   "metadata": {},
   "outputs": [
    {
     "data": {
      "image/png": "[encoded data removed]",
      "text/plain": [
       "<matplotlib.figure.Figure at 0x7f03658ce588>"
      ]
     },
     "metadata": {},
     "output_type": "display_data"
    }
   ],
   "source": [
    "plt_roc_curve(\"Linear SVM\",SVM_pop,has_proba=False)"
   ]
  },
  {
   "cell_type": "markdown",
   "metadata": {},
   "source": [
    "**KNN**"
   ]
  },
  {
   "cell_type": "code",
   "execution_count": 35,
   "metadata": {},
   "outputs": [
    {
     "name": "stdout",
     "output_type": "stream",
     "text": [
      "In-sample accuracy: 0.782300819748\n",
      "Test accuracy: 0.762711864407\n"
     ]
    },
    {
     "data": {
      "text/html": [
       "<div>\n",
       "<style>\n",
       "    .dataframe thead tr:only-child th {\n",
       "        text-align: right;\n",
       "    }\n",
       "\n",
       "    .dataframe thead th {\n",
       "        text-align: left;\n",
       "    }\n",
       "\n",
       "    .dataframe tbody tr th {\n",
       "        vertical-align: top;\n",
       "    }\n",
       "</style>\n",
       "<table border=\"1\" class=\"dataframe\">\n",
       "  <thead>\n",
       "    <tr style=\"text-align: right;\">\n",
       "      <th></th>\n",
       "      <th>Predicted Not-Popular</th>\n",
       "      <th>Predicted Popular</th>\n",
       "    </tr>\n",
       "  </thead>\n",
       "  <tbody>\n",
       "    <tr>\n",
       "      <th>Actual Not-Popular</th>\n",
       "      <td>290</td>\n",
       "      <td>12</td>\n",
       "    </tr>\n",
       "    <tr>\n",
       "      <th>Actual Popular</th>\n",
       "      <td>86</td>\n",
       "      <td>25</td>\n",
       "    </tr>\n",
       "  </tbody>\n",
       "</table>\n",
       "</div>"
      ],
      "text/plain": [
       "                    Predicted Not-Popular  Predicted Popular\n",
       "Actual Not-Popular                    290                 12\n",
       "Actual Popular                         86                 25"
      ]
     },
     "execution_count": 35,
     "metadata": {},
     "output_type": "execute_result"
    }
   ],
   "source": [
    "KNN_pop=KNeighborsClassifier(n_neighbors=170)\n",
    "KNN_pop.fit(x_pop_train,y_pop_train)\n",
    "predicted=KNN_pop.predict(x_pop_test)\n",
    "print(\"In-sample accuracy: \" + str(pop_train_acc_score(KNN_pop)))\n",
    "print(\"Test accuracy: \" + str(pop_test_acc_score(KNN_pop)))\n",
    "confusion_matrix_model(KNN_pop)"
   ]
  },
  {
   "cell_type": "code",
   "execution_count": 36,
   "metadata": {},
   "outputs": [
    {
     "data": {
      "image/png": "[encoded data removed]",
      "text/plain": [
       "<matplotlib.figure.Figure at 0x7f0365935668>"
      ]
     },
     "metadata": {},
     "output_type": "display_data"
    }
   ],
   "source": [
    "plt_roc_curve(\"KNN (170)\",KNN_pop,has_proba=True)"
   ]
  },
  {
   "cell_type": "markdown",
   "metadata": {},
   "source": [
    "**Decision Tree/Classification Tree**"
   ]
  },
  {
   "cell_type": "code",
   "execution_count": 37,
   "metadata": {},
   "outputs": [
    {
     "name": "stdout",
     "output_type": "stream",
     "text": [
      "In-sample accuracy: 0.7804807958\n",
      "Test accuracy: 0.765133171913\n"
     ]
    },
    {
     "data": {
      "text/html": [
       "<div>\n",
       "<style>\n",
       "    .dataframe thead tr:only-child th {\n",
       "        text-align: right;\n",
       "    }\n",
       "\n",
       "    .dataframe thead th {\n",
       "        text-align: left;\n",
       "    }\n",
       "\n",
       "    .dataframe tbody tr th {\n",
       "        vertical-align: top;\n",
       "    }\n",
       "</style>\n",
       "<table border=\"1\" class=\"dataframe\">\n",
       "  <thead>\n",
       "    <tr style=\"text-align: right;\">\n",
       "      <th></th>\n",
       "      <th>Predicted Not-Popular</th>\n",
       "      <th>Predicted Popular</th>\n",
       "    </tr>\n",
       "  </thead>\n",
       "  <tbody>\n",
       "    <tr>\n",
       "      <th>Actual Not-Popular</th>\n",
       "      <td>284</td>\n",
       "      <td>18</td>\n",
       "    </tr>\n",
       "    <tr>\n",
       "      <th>Actual Popular</th>\n",
       "      <td>79</td>\n",
       "      <td>32</td>\n",
       "    </tr>\n",
       "  </tbody>\n",
       "</table>\n",
       "</div>"
      ],
      "text/plain": [
       "                    Predicted Not-Popular  Predicted Popular\n",
       "Actual Not-Popular                    284                 18\n",
       "Actual Popular                         79                 32"
      ]
     },
     "execution_count": 37,
     "metadata": {},
     "output_type": "execute_result"
    }
   ],
   "source": [
    "Dec_tree_pop=DecisionTreeClassifier(max_depth=4,random_state=5)\n",
    "Dec_tree_pop.fit(x_pop_train,y_pop_train)\n",
    "predicted=Dec_tree_pop.predict(x_pop_test)\n",
    "print(\"In-sample accuracy: \" + str(pop_train_acc_score(Dec_tree_pop)))\n",
    "print(\"Test accuracy: \" + str(pop_test_acc_score(Dec_tree_pop)))\n",
    "confusion_matrix_model(Dec_tree_pop)"
   ]
  },
  {
   "cell_type": "code",
   "execution_count": 38,
   "metadata": {},
   "outputs": [
    {
     "data": {
      "image/png": "[encoded data removed]",
      "text/plain": [
       "<matplotlib.figure.Figure at 0x7f0364dfa978>"
      ]
     },
     "metadata": {},
     "output_type": "display_data"
    }
   ],
   "source": [
    "plt_roc_curve(\"Decision Tree\",Dec_tree_pop,has_proba=True)"
   ]
  },
  {
   "cell_type": "markdown",
   "metadata": {},
   "source": [
    "**Random Forest**"
   ]
  },
  {
   "cell_type": "code",
   "execution_count": 39,
   "metadata": {},
   "outputs": [
    {
     "name": "stdout",
     "output_type": "stream",
     "text": [
      "In-sample accuracy: 0.787755365202\n",
      "Test accuracy: 0.765133171913\n"
     ]
    },
    {
     "data": {
      "text/html": [
       "<div>\n",
       "<style>\n",
       "    .dataframe thead tr:only-child th {\n",
       "        text-align: right;\n",
       "    }\n",
       "\n",
       "    .dataframe thead th {\n",
       "        text-align: left;\n",
       "    }\n",
       "\n",
       "    .dataframe tbody tr th {\n",
       "        vertical-align: top;\n",
       "    }\n",
       "</style>\n",
       "<table border=\"1\" class=\"dataframe\">\n",
       "  <thead>\n",
       "    <tr style=\"text-align: right;\">\n",
       "      <th></th>\n",
       "      <th>Predicted Not-Popular</th>\n",
       "      <th>Predicted Popular</th>\n",
       "    </tr>\n",
       "  </thead>\n",
       "  <tbody>\n",
       "    <tr>\n",
       "      <th>Actual Not-Popular</th>\n",
       "      <td>291</td>\n",
       "      <td>11</td>\n",
       "    </tr>\n",
       "    <tr>\n",
       "      <th>Actual Popular</th>\n",
       "      <td>86</td>\n",
       "      <td>25</td>\n",
       "    </tr>\n",
       "  </tbody>\n",
       "</table>\n",
       "</div>"
      ],
      "text/plain": [
       "                    Predicted Not-Popular  Predicted Popular\n",
       "Actual Not-Popular                    291                 11\n",
       "Actual Popular                         86                 25"
      ]
     },
     "execution_count": 39,
     "metadata": {},
     "output_type": "execute_result"
    }
   ],
   "source": [
    "ranfor_pop = RandomForestClassifier(n_estimators=50, max_features='sqrt',max_depth=6,random_state=10)\n",
    "ranfor_pop = ranfor_pop.fit(x_pop_train,y_pop_train)\n",
    "predicted=ranfor_pop.predict(x_pop_test)\n",
    "print(\"In-sample accuracy: \" + str(pop_train_acc_score(ranfor_pop)))\n",
    "print(\"Test accuracy: \" + str(pop_test_acc_score(ranfor_pop)))\n",
    "confusion_matrix_model(ranfor_pop)"
   ]
  },
  {
   "cell_type": "code",
   "execution_count": 40,
   "metadata": {},
   "outputs": [
    {
     "data": {
      "image/png": "[encoded data removed]",
      "text/plain": [
       "<matplotlib.figure.Figure at 0x7f03658a5b70>"
      ]
     },
     "metadata": {},
     "output_type": "display_data"
    }
   ],
   "source": [
    "plt_roc_curve(\"Random Forest\",ranfor_pop,has_proba=True)"
   ]
  },
  {
   "cell_type": "markdown",
   "metadata": {},
   "source": [
    "**XGBoosting**"
   ]
  },
  {
   "cell_type": "code",
   "execution_count": 41,
   "metadata": {},
   "outputs": [
    {
     "name": "stdout",
     "output_type": "stream",
     "text": [
      "In-sample accuracy: 0.795024408216\n",
      "Test accuracy: 0.772397094431\n"
     ]
    },
    {
     "data": {
      "text/html": [
       "<div>\n",
       "<style>\n",
       "    .dataframe thead tr:only-child th {\n",
       "        text-align: right;\n",
       "    }\n",
       "\n",
       "    .dataframe thead th {\n",
       "        text-align: left;\n",
       "    }\n",
       "\n",
       "    .dataframe tbody tr th {\n",
       "        vertical-align: top;\n",
       "    }\n",
       "</style>\n",
       "<table border=\"1\" class=\"dataframe\">\n",
       "  <thead>\n",
       "    <tr style=\"text-align: right;\">\n",
       "      <th></th>\n",
       "      <th>Predicted Not-Popular</th>\n",
       "      <th>Predicted Popular</th>\n",
       "    </tr>\n",
       "  </thead>\n",
       "  <tbody>\n",
       "    <tr>\n",
       "      <th>Actual Not-Popular</th>\n",
       "      <td>284</td>\n",
       "      <td>18</td>\n",
       "    </tr>\n",
       "    <tr>\n",
       "      <th>Actual Popular</th>\n",
       "      <td>76</td>\n",
       "      <td>35</td>\n",
       "    </tr>\n",
       "  </tbody>\n",
       "</table>\n",
       "</div>"
      ],
      "text/plain": [
       "                    Predicted Not-Popular  Predicted Popular\n",
       "Actual Not-Popular                    284                 18\n",
       "Actual Popular                         76                 35"
      ]
     },
     "execution_count": 41,
     "metadata": {},
     "output_type": "execute_result"
    }
   ],
   "source": [
    "xgclass_pop = xgb.XGBClassifier(max_depth=3, n_estimators=300, learning_rate=0.01).fit(x_pop_train, y_pop_train)\n",
    "predicted=xgclass_pop.predict(x_pop_test)\n",
    "print(\"In-sample accuracy: \" + str(pop_train_acc_score(xgclass_pop)))\n",
    "print(\"Test accuracy: \" + str(pop_test_acc_score(xgclass_pop)))\n",
    "confusion_matrix_model(xgclass_pop)"
   ]
  },
  {
   "cell_type": "code",
   "execution_count": 42,
   "metadata": {},
   "outputs": [
    {
     "data": {
      "image/png": "[encoded data removed]",
      "text/plain": [
       "<matplotlib.figure.Figure at 0x7f0364dba9e8>"
      ]
     },
     "metadata": {},
     "output_type": "display_data"
    }
   ],
   "source": [
    "plt_roc_curve(\"XGBoosting\",xgclass_pop,has_proba=True)"
   ]
  },
  {
   "cell_type": "markdown",
   "metadata": {},
   "source": [
    "# 4.2.3 Results for Classification methods for popularity"
   ]
  },
  {
   "cell_type": "code",
   "execution_count": 43,
   "metadata": {},
   "outputs": [
    {
     "data": {
      "text/html": [
       "<div>\n",
       "<style>\n",
       "    .dataframe thead tr:only-child th {\n",
       "        text-align: right;\n",
       "    }\n",
       "\n",
       "    .dataframe thead th {\n",
       "        text-align: left;\n",
       "    }\n",
       "\n",
       "    .dataframe tbody tr th {\n",
       "        vertical-align: top;\n",
       "    }\n",
       "</style>\n",
       "<table border=\"1\" class=\"dataframe\">\n",
       "  <thead>\n",
       "    <tr style=\"text-align: right;\">\n",
       "      <th></th>\n",
       "      <th>Classifier</th>\n",
       "      <th>In-sample Accuracy</th>\n",
       "      <th>Test Accuracy</th>\n",
       "      <th>AUC</th>\n",
       "    </tr>\n",
       "  </thead>\n",
       "  <tbody>\n",
       "    <tr>\n",
       "      <th>0</th>\n",
       "      <td>Logistic Regression</td>\n",
       "      <td>0.793221</td>\n",
       "      <td>0.769976</td>\n",
       "      <td>0.768182</td>\n",
       "    </tr>\n",
       "    <tr>\n",
       "      <th>1</th>\n",
       "      <td>Support Vector Machine</td>\n",
       "      <td>0.670760</td>\n",
       "      <td>0.750605</td>\n",
       "      <td>0.600501</td>\n",
       "    </tr>\n",
       "    <tr>\n",
       "      <th>2</th>\n",
       "      <td>K-Nearest Neighbours</td>\n",
       "      <td>0.782301</td>\n",
       "      <td>0.762712</td>\n",
       "      <td>0.751745</td>\n",
       "    </tr>\n",
       "    <tr>\n",
       "      <th>3</th>\n",
       "      <td>Decision Tree</td>\n",
       "      <td>0.780481</td>\n",
       "      <td>0.765133</td>\n",
       "      <td>0.752953</td>\n",
       "    </tr>\n",
       "    <tr>\n",
       "      <th>4</th>\n",
       "      <td>Random Forest</td>\n",
       "      <td>0.787755</td>\n",
       "      <td>0.765133</td>\n",
       "      <td>0.783456</td>\n",
       "    </tr>\n",
       "    <tr>\n",
       "      <th>5</th>\n",
       "      <td>XGBoost</td>\n",
       "      <td>0.795024</td>\n",
       "      <td>0.772397</td>\n",
       "      <td>0.795030</td>\n",
       "    </tr>\n",
       "  </tbody>\n",
       "</table>\n",
       "</div>"
      ],
      "text/plain": [
       "               Classifier  In-sample Accuracy  Test Accuracy       AUC\n",
       "0     Logistic Regression            0.793221       0.769976  0.768182\n",
       "1  Support Vector Machine            0.670760       0.750605  0.600501\n",
       "2    K-Nearest Neighbours            0.782301       0.762712  0.751745\n",
       "3           Decision Tree            0.780481       0.765133  0.752953\n",
       "4           Random Forest            0.787755       0.765133  0.783456\n",
       "5                 XGBoost            0.795024       0.772397  0.795030"
      ]
     },
     "execution_count": 43,
     "metadata": {},
     "output_type": "execute_result"
    }
   ],
   "source": [
    "Classifiers=[\"Logistic Regression\",\"Support Vector Machine\",\"K-Nearest Neighbours\",\"Decision Tree\",\"Random Forest\",\"XGBoost\"]\n",
    "in_sample_acc=[pop_train_acc_score(x) for x in [log_reg_pop,SVM_pop,KNN_pop,Dec_tree_pop,ranfor_pop,xgclass_pop]]\n",
    "test_acc=[pop_test_acc_score(x) for x in [log_reg_pop,SVM_pop,KNN_pop,Dec_tree_pop,ranfor_pop,xgclass_pop]]\n",
    "auc_scores_prob=[aucscore(x,has_proba=True) for x in [log_reg_pop,KNN_pop,Dec_tree_pop,ranfor_pop,xgclass_pop]]\n",
    "auc_scores_noprob=[aucscore(x,has_proba=False) for x in [SVM_pop]]\n",
    "auc_scores=auc_scores_prob[:1] + auc_scores_noprob + auc_scores_prob[1:]\n",
    "cols=[\"Classifier\",\"In-sample Accuracy\",\"Test Accuracy\",\"AUC\"]\n",
    "popularity_results = pd.DataFrame(columns=cols)\n",
    "popularity_results[\"Classifier\"]=Classifiers\n",
    "popularity_results[\"In-sample Accuracy\"]=in_sample_acc\n",
    "popularity_results[\"Test Accuracy\"]=test_acc\n",
    "popularity_results[\"AUC\"]=auc_scores\n",
    "popularity_results"
   ]
  },
  {
   "cell_type": "code",
   "execution_count": null,
   "metadata": {},
   "outputs": [],
   "source": []
  }
 ],
 "metadata": {
  "kernelspec": {
   "display_name": "Python 3",
   "language": "python",
   "name": "python3"
  },
  "language_info": {
   "codemirror_mode": {
    "name": "ipython",
    "version": 3
   },
   "file_extension": ".py",
   "mimetype": "text/x-python",
   "name": "python",
   "nbconvert_exporter": "python",
   "pygments_lexer": "ipython3",
   "version": "3.6.3"
  }
 },
 "nbformat": 4,
 "nbformat_minor": 2
}
